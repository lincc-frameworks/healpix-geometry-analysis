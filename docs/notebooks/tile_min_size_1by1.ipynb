{
 "cells": [
  {
   "cell_type": "markdown",
   "id": "5e888167830e8967",
   "metadata": {},
   "source": [
    "# Analysis for the minimum size for every tile of a grid"
   ]
  },
  {
   "cell_type": "code",
   "id": "f4bb6871af102d56",
   "metadata": {
    "ExecuteTime": {
     "end_time": "2024-07-16T19:15:23.375683Z",
     "start_time": "2024-07-16T19:15:23.316344Z"
    }
   },
   "source": [
    "import numpy as np\n",
    "NORDER = 8\n",
    "NSIDE = 2 ** NORDER "
   ],
   "outputs": [],
   "execution_count": 35
  },
  {
   "cell_type": "markdown",
   "id": "b7536e7da32df9",
   "metadata": {},
   "source": [
    "## Imports"
   ]
  },
  {
   "cell_type": "code",
   "id": "57fa7fa66ab3d5c0",
   "metadata": {
    "ExecuteTime": {
     "end_time": "2024-07-16T19:15:26.456915Z",
     "start_time": "2024-07-16T19:15:26.447713Z"
    }
   },
   "source": [
    "import os\n",
    "from functools import partial\n",
    "\n",
    "import jax\n",
    "import jax.numpy as jnp\n",
    "import matplotlib.pyplot as plt\n",
    "import optax\n",
    "from numpyro.infer import MCMC, NUTS\n",
    "\n",
    "from healpix_geometry_analysis.coordinates import HealpixCoordinates\n",
    "from healpix_geometry_analysis.geometry.tile import TileGeometry\n",
    "from healpix_geometry_analysis.problems.numpyro_sampler import NumpyroSamplerProblem\n",
    "from healpix_geometry_analysis.problems.optax_optimizer import OptaxOptimizerProblem\n",
    "from healpix_geometry_analysis.enable_x64 import enable_x64\n",
    "\n",
    "enable_x64()"
   ],
   "outputs": [],
   "execution_count": 36
  },
  {
   "cell_type": "markdown",
   "id": "e3e9dfbe818de3ff",
   "metadata": {},
   "source": [
    "## Initializa a coordinate object, which knows few coordinate system transformations"
   ]
  },
  {
   "cell_type": "code",
   "id": "3bc13fcf4eb9c747",
   "metadata": {
    "ExecuteTime": {
     "end_time": "2024-07-16T19:15:27.415154Z",
     "start_time": "2024-07-16T19:15:27.399098Z"
    }
   },
   "source": [
    "coord = HealpixCoordinates.from_nside(NSIDE)"
   ],
   "outputs": [],
   "execution_count": 37
  },
  {
   "cell_type": "markdown",
   "id": "b0c0b2514cf1ab64",
   "metadata": {},
   "source": [
    "## Making a list of tiles"
   ]
  },
  {
   "cell_type": "markdown",
   "id": "544c15b37350429a",
   "metadata": {},
   "source": [
    "### Equatorial region requires a tile per each Northern Hemisphere ring"
   ]
  },
  {
   "cell_type": "code",
   "id": "7e8f7184f40657ff",
   "metadata": {
    "ExecuteTime": {
     "end_time": "2024-07-16T19:15:28.655147Z",
     "start_time": "2024-07-16T19:15:28.623125Z"
    }
   },
   "source": [
    "# Step between equatorial rings\n",
    "delta_z = 2 / 3 / coord.grid.nside\n",
    "# Step between meridian rings\n",
    "delta_phi = 0.5 * jnp.pi / coord.grid.nside\n",
    "\n",
    "# First, with longitude = 0\n",
    "z_meridian = jnp.arange(1, coord.grid.nside - 2, 2) * delta_z\n",
    "phi_meridian = jnp.zeros_like(z_meridian)\n",
    "# Next, with a half-step over phi\n",
    "z_offset = jnp.arange(0, coord.grid.nside - 1, 2) * delta_z\n",
    "phi_offset = jnp.full_like(z_offset, 0.5 * delta_phi)\n",
    "\n",
    "z_eq = jnp.concatenate([z_meridian, z_offset])\n",
    "phi_eq = jnp.concatenate([phi_meridian, phi_offset])\n",
    "\n",
    "k_eq, kp_eq = coord.diag_from_phi_z(phi_eq, z_eq)"
   ],
   "outputs": [],
   "execution_count": 38
  },
  {
   "cell_type": "markdown",
   "id": "8eba3599680345d8",
   "metadata": {},
   "source": [
    "### Intermidiate region requires all tiles from ring `z = 2/3 - delta_z`"
   ]
  },
  {
   "cell_type": "code",
   "id": "1d4a761afb31e405",
   "metadata": {
    "ExecuteTime": {
     "end_time": "2024-07-16T19:15:29.533474Z",
     "start_time": "2024-07-16T19:15:29.513848Z"
    }
   },
   "source": [
    "phi_inter = jnp.arange(0, coord.grid.nside // 2 + 1) * delta_phi\n",
    "z_inter = jnp.full_like(phi_inter, 2 / 3 - delta_z)\n",
    "\n",
    "k_inter, kp_inter = coord.diag_from_phi_z(phi_inter, z_inter)"
   ],
   "outputs": [],
   "execution_count": 39
  },
  {
   "cell_type": "markdown",
   "id": "368810eb511178ca",
   "metadata": {},
   "source": [
    "### Polar region requires all tiles in 0 < lon <= pi/4, 2/3 <= z < 1"
   ]
  },
  {
   "cell_type": "code",
   "id": "7796de3a85a22e23",
   "metadata": {
    "ExecuteTime": {
     "end_time": "2024-07-16T19:15:30.321237Z",
     "start_time": "2024-07-16T19:15:30.259176Z"
    }
   },
   "source": [
    "# Use rectangular indices to define the tiles\n",
    "\n",
    "# First, create a matrix of all possible pairs: we will filter it later\n",
    "i_pol_ = jnp.arange(1, coord.grid.nside + 1)\n",
    "j_pol_ = jnp.arange(0, coord.grid.nside)\n",
    "i_pol_all, j_pol_all = jnp.meshgrid(i_pol_, j_pol_)\n",
    "\n",
    "# Filter to have only j indices within a required \"triangle\"\n",
    "j_pol_idx = j_pol_all <= (i_pol_all - 1) // 2\n",
    "i_pol, j_pol = i_pol_all[j_pol_idx], j_pol_all[j_pol_idx]\n",
    "\n",
    "# Get k & k'\n",
    "k_pol = j_pol + 0.5\n",
    "kp_pol = i_pol - j_pol - 0.5"
   ],
   "outputs": [],
   "execution_count": 40
  },
  {
   "cell_type": "markdown",
   "id": "3684b929c013b27d",
   "metadata": {},
   "source": [
    "### Combine all diagonal indices and create geometry objects"
   ]
  },
  {
   "cell_type": "code",
   "id": "bd60d9e4faf1b3d2",
   "metadata": {
    "ExecuteTime": {
     "end_time": "2024-07-16T19:15:31.502259Z",
     "start_time": "2024-07-16T19:15:31.135991Z"
    }
   },
   "source": [
    "k = jnp.concatenate([k_eq, k_inter, k_pol])\n",
    "kp = jnp.concatenate([kp_eq, kp_inter, kp_pol])\n",
    "\n",
    "plt.scatter(*coord.phi_z(k, kp), s=10)\n",
    "plt.xlabel(r\"$\\phi$\")\n",
    "plt.ylabel(\"$z$\")\n",
    "\n",
    "print(k.shape)"
   ],
   "outputs": [
    {
     "name": "stdout",
     "output_type": "stream",
     "text": [
      "(16896,)\n",
      "Error in callback <function _draw_all_if_interactive at 0x17eb19b20> (for post_execute), with arguments args (),kwargs {}:\n"
     ]
    },
    {
     "ename": "ValueError",
     "evalue": "object __array__ method not producing an array",
     "output_type": "error",
     "traceback": [
      "\u001B[0;31m---------------------------------------------------------------------------\u001B[0m",
      "\u001B[0;31mValueError\u001B[0m                                Traceback (most recent call last)",
      "File \u001B[0;32m~/opt/anaconda3/envs/healpix-geometry-analysis/lib/python3.12/site-packages/matplotlib/pyplot.py:265\u001B[0m, in \u001B[0;36m_draw_all_if_interactive\u001B[0;34m()\u001B[0m\n\u001B[1;32m    263\u001B[0m \u001B[38;5;28;01mdef\u001B[39;00m \u001B[38;5;21m_draw_all_if_interactive\u001B[39m() \u001B[38;5;241m-\u001B[39m\u001B[38;5;241m>\u001B[39m \u001B[38;5;28;01mNone\u001B[39;00m:\n\u001B[1;32m    264\u001B[0m     \u001B[38;5;28;01mif\u001B[39;00m matplotlib\u001B[38;5;241m.\u001B[39mis_interactive():\n\u001B[0;32m--> 265\u001B[0m         \u001B[43mdraw_all\u001B[49m\u001B[43m(\u001B[49m\u001B[43m)\u001B[49m\n",
      "File \u001B[0;32m~/opt/anaconda3/envs/healpix-geometry-analysis/lib/python3.12/site-packages/matplotlib/_pylab_helpers.py:131\u001B[0m, in \u001B[0;36mGcf.draw_all\u001B[0;34m(cls, force)\u001B[0m\n\u001B[1;32m    129\u001B[0m \u001B[38;5;28;01mfor\u001B[39;00m manager \u001B[38;5;129;01min\u001B[39;00m \u001B[38;5;28mcls\u001B[39m\u001B[38;5;241m.\u001B[39mget_all_fig_managers():\n\u001B[1;32m    130\u001B[0m     \u001B[38;5;28;01mif\u001B[39;00m force \u001B[38;5;129;01mor\u001B[39;00m manager\u001B[38;5;241m.\u001B[39mcanvas\u001B[38;5;241m.\u001B[39mfigure\u001B[38;5;241m.\u001B[39mstale:\n\u001B[0;32m--> 131\u001B[0m         \u001B[43mmanager\u001B[49m\u001B[38;5;241;43m.\u001B[39;49m\u001B[43mcanvas\u001B[49m\u001B[38;5;241;43m.\u001B[39;49m\u001B[43mdraw_idle\u001B[49m\u001B[43m(\u001B[49m\u001B[43m)\u001B[49m\n",
      "File \u001B[0;32m~/opt/anaconda3/envs/healpix-geometry-analysis/lib/python3.12/site-packages/matplotlib/backend_bases.py:1919\u001B[0m, in \u001B[0;36mFigureCanvasBase.draw_idle\u001B[0;34m(self, *args, **kwargs)\u001B[0m\n\u001B[1;32m   1917\u001B[0m \u001B[38;5;28;01mif\u001B[39;00m \u001B[38;5;129;01mnot\u001B[39;00m \u001B[38;5;28mself\u001B[39m\u001B[38;5;241m.\u001B[39m_is_idle_drawing:\n\u001B[1;32m   1918\u001B[0m     \u001B[38;5;28;01mwith\u001B[39;00m \u001B[38;5;28mself\u001B[39m\u001B[38;5;241m.\u001B[39m_idle_draw_cntx():\n\u001B[0;32m-> 1919\u001B[0m         \u001B[38;5;28;43mself\u001B[39;49m\u001B[38;5;241;43m.\u001B[39;49m\u001B[43mdraw\u001B[49m\u001B[43m(\u001B[49m\u001B[38;5;241;43m*\u001B[39;49m\u001B[43margs\u001B[49m\u001B[43m,\u001B[49m\u001B[43m \u001B[49m\u001B[38;5;241;43m*\u001B[39;49m\u001B[38;5;241;43m*\u001B[39;49m\u001B[43mkwargs\u001B[49m\u001B[43m)\u001B[49m\n",
      "File \u001B[0;32m~/opt/anaconda3/envs/healpix-geometry-analysis/lib/python3.12/site-packages/matplotlib/backends/backend_agg.py:387\u001B[0m, in \u001B[0;36mFigureCanvasAgg.draw\u001B[0;34m(self)\u001B[0m\n\u001B[1;32m    384\u001B[0m \u001B[38;5;66;03m# Acquire a lock on the shared font cache.\u001B[39;00m\n\u001B[1;32m    385\u001B[0m \u001B[38;5;28;01mwith\u001B[39;00m (\u001B[38;5;28mself\u001B[39m\u001B[38;5;241m.\u001B[39mtoolbar\u001B[38;5;241m.\u001B[39m_wait_cursor_for_draw_cm() \u001B[38;5;28;01mif\u001B[39;00m \u001B[38;5;28mself\u001B[39m\u001B[38;5;241m.\u001B[39mtoolbar\n\u001B[1;32m    386\u001B[0m       \u001B[38;5;28;01melse\u001B[39;00m nullcontext()):\n\u001B[0;32m--> 387\u001B[0m     \u001B[38;5;28;43mself\u001B[39;49m\u001B[38;5;241;43m.\u001B[39;49m\u001B[43mfigure\u001B[49m\u001B[38;5;241;43m.\u001B[39;49m\u001B[43mdraw\u001B[49m\u001B[43m(\u001B[49m\u001B[38;5;28;43mself\u001B[39;49m\u001B[38;5;241;43m.\u001B[39;49m\u001B[43mrenderer\u001B[49m\u001B[43m)\u001B[49m\n\u001B[1;32m    388\u001B[0m     \u001B[38;5;66;03m# A GUI class may be need to update a window using this draw, so\u001B[39;00m\n\u001B[1;32m    389\u001B[0m     \u001B[38;5;66;03m# don't forget to call the superclass.\u001B[39;00m\n\u001B[1;32m    390\u001B[0m     \u001B[38;5;28msuper\u001B[39m()\u001B[38;5;241m.\u001B[39mdraw()\n",
      "File \u001B[0;32m~/opt/anaconda3/envs/healpix-geometry-analysis/lib/python3.12/site-packages/matplotlib/artist.py:95\u001B[0m, in \u001B[0;36m_finalize_rasterization.<locals>.draw_wrapper\u001B[0;34m(artist, renderer, *args, **kwargs)\u001B[0m\n\u001B[1;32m     93\u001B[0m \u001B[38;5;129m@wraps\u001B[39m(draw)\n\u001B[1;32m     94\u001B[0m \u001B[38;5;28;01mdef\u001B[39;00m \u001B[38;5;21mdraw_wrapper\u001B[39m(artist, renderer, \u001B[38;5;241m*\u001B[39margs, \u001B[38;5;241m*\u001B[39m\u001B[38;5;241m*\u001B[39mkwargs):\n\u001B[0;32m---> 95\u001B[0m     result \u001B[38;5;241m=\u001B[39m \u001B[43mdraw\u001B[49m\u001B[43m(\u001B[49m\u001B[43martist\u001B[49m\u001B[43m,\u001B[49m\u001B[43m \u001B[49m\u001B[43mrenderer\u001B[49m\u001B[43m,\u001B[49m\u001B[43m \u001B[49m\u001B[38;5;241;43m*\u001B[39;49m\u001B[43margs\u001B[49m\u001B[43m,\u001B[49m\u001B[43m \u001B[49m\u001B[38;5;241;43m*\u001B[39;49m\u001B[38;5;241;43m*\u001B[39;49m\u001B[43mkwargs\u001B[49m\u001B[43m)\u001B[49m\n\u001B[1;32m     96\u001B[0m     \u001B[38;5;28;01mif\u001B[39;00m renderer\u001B[38;5;241m.\u001B[39m_rasterizing:\n\u001B[1;32m     97\u001B[0m         renderer\u001B[38;5;241m.\u001B[39mstop_rasterizing()\n",
      "File \u001B[0;32m~/opt/anaconda3/envs/healpix-geometry-analysis/lib/python3.12/site-packages/matplotlib/artist.py:72\u001B[0m, in \u001B[0;36mallow_rasterization.<locals>.draw_wrapper\u001B[0;34m(artist, renderer)\u001B[0m\n\u001B[1;32m     69\u001B[0m     \u001B[38;5;28;01mif\u001B[39;00m artist\u001B[38;5;241m.\u001B[39mget_agg_filter() \u001B[38;5;129;01mis\u001B[39;00m \u001B[38;5;129;01mnot\u001B[39;00m \u001B[38;5;28;01mNone\u001B[39;00m:\n\u001B[1;32m     70\u001B[0m         renderer\u001B[38;5;241m.\u001B[39mstart_filter()\n\u001B[0;32m---> 72\u001B[0m     \u001B[38;5;28;01mreturn\u001B[39;00m \u001B[43mdraw\u001B[49m\u001B[43m(\u001B[49m\u001B[43martist\u001B[49m\u001B[43m,\u001B[49m\u001B[43m \u001B[49m\u001B[43mrenderer\u001B[49m\u001B[43m)\u001B[49m\n\u001B[1;32m     73\u001B[0m \u001B[38;5;28;01mfinally\u001B[39;00m:\n\u001B[1;32m     74\u001B[0m     \u001B[38;5;28;01mif\u001B[39;00m artist\u001B[38;5;241m.\u001B[39mget_agg_filter() \u001B[38;5;129;01mis\u001B[39;00m \u001B[38;5;129;01mnot\u001B[39;00m \u001B[38;5;28;01mNone\u001B[39;00m:\n",
      "File \u001B[0;32m~/opt/anaconda3/envs/healpix-geometry-analysis/lib/python3.12/site-packages/matplotlib/figure.py:3154\u001B[0m, in \u001B[0;36mFigure.draw\u001B[0;34m(self, renderer)\u001B[0m\n\u001B[1;32m   3151\u001B[0m         \u001B[38;5;28;01mpass\u001B[39;00m\n\u001B[1;32m   3152\u001B[0m         \u001B[38;5;66;03m# ValueError can occur when resizing a window.\u001B[39;00m\n\u001B[0;32m-> 3154\u001B[0m \u001B[38;5;28;43mself\u001B[39;49m\u001B[38;5;241;43m.\u001B[39;49m\u001B[43mpatch\u001B[49m\u001B[38;5;241;43m.\u001B[39;49m\u001B[43mdraw\u001B[49m\u001B[43m(\u001B[49m\u001B[43mrenderer\u001B[49m\u001B[43m)\u001B[49m\n\u001B[1;32m   3155\u001B[0m mimage\u001B[38;5;241m.\u001B[39m_draw_list_compositing_images(\n\u001B[1;32m   3156\u001B[0m     renderer, \u001B[38;5;28mself\u001B[39m, artists, \u001B[38;5;28mself\u001B[39m\u001B[38;5;241m.\u001B[39msuppressComposite)\n\u001B[1;32m   3158\u001B[0m renderer\u001B[38;5;241m.\u001B[39mclose_group(\u001B[38;5;124m'\u001B[39m\u001B[38;5;124mfigure\u001B[39m\u001B[38;5;124m'\u001B[39m)\n",
      "File \u001B[0;32m~/opt/anaconda3/envs/healpix-geometry-analysis/lib/python3.12/site-packages/matplotlib/artist.py:72\u001B[0m, in \u001B[0;36mallow_rasterization.<locals>.draw_wrapper\u001B[0;34m(artist, renderer)\u001B[0m\n\u001B[1;32m     69\u001B[0m     \u001B[38;5;28;01mif\u001B[39;00m artist\u001B[38;5;241m.\u001B[39mget_agg_filter() \u001B[38;5;129;01mis\u001B[39;00m \u001B[38;5;129;01mnot\u001B[39;00m \u001B[38;5;28;01mNone\u001B[39;00m:\n\u001B[1;32m     70\u001B[0m         renderer\u001B[38;5;241m.\u001B[39mstart_filter()\n\u001B[0;32m---> 72\u001B[0m     \u001B[38;5;28;01mreturn\u001B[39;00m \u001B[43mdraw\u001B[49m\u001B[43m(\u001B[49m\u001B[43martist\u001B[49m\u001B[43m,\u001B[49m\u001B[43m \u001B[49m\u001B[43mrenderer\u001B[49m\u001B[43m)\u001B[49m\n\u001B[1;32m     73\u001B[0m \u001B[38;5;28;01mfinally\u001B[39;00m:\n\u001B[1;32m     74\u001B[0m     \u001B[38;5;28;01mif\u001B[39;00m artist\u001B[38;5;241m.\u001B[39mget_agg_filter() \u001B[38;5;129;01mis\u001B[39;00m \u001B[38;5;129;01mnot\u001B[39;00m \u001B[38;5;28;01mNone\u001B[39;00m:\n",
      "File \u001B[0;32m~/opt/anaconda3/envs/healpix-geometry-analysis/lib/python3.12/site-packages/matplotlib/patches.py:632\u001B[0m, in \u001B[0;36mPatch.draw\u001B[0;34m(self, renderer)\u001B[0m\n\u001B[1;32m    630\u001B[0m tpath \u001B[38;5;241m=\u001B[39m transform\u001B[38;5;241m.\u001B[39mtransform_path_non_affine(path)\n\u001B[1;32m    631\u001B[0m affine \u001B[38;5;241m=\u001B[39m transform\u001B[38;5;241m.\u001B[39mget_affine()\n\u001B[0;32m--> 632\u001B[0m \u001B[38;5;28;43mself\u001B[39;49m\u001B[38;5;241;43m.\u001B[39;49m\u001B[43m_draw_paths_with_artist_properties\u001B[49m\u001B[43m(\u001B[49m\n\u001B[1;32m    633\u001B[0m \u001B[43m    \u001B[49m\u001B[43mrenderer\u001B[49m\u001B[43m,\u001B[49m\n\u001B[1;32m    634\u001B[0m \u001B[43m    \u001B[49m\u001B[43m[\u001B[49m\u001B[43m(\u001B[49m\u001B[43mtpath\u001B[49m\u001B[43m,\u001B[49m\u001B[43m \u001B[49m\u001B[43maffine\u001B[49m\u001B[43m,\u001B[49m\n\u001B[1;32m    635\u001B[0m \u001B[43m      \u001B[49m\u001B[38;5;66;43;03m# Work around a bug in the PDF and SVG renderers, which\u001B[39;49;00m\n\u001B[1;32m    636\u001B[0m \u001B[43m      \u001B[49m\u001B[38;5;66;43;03m# do not draw the hatches if the facecolor is fully\u001B[39;49;00m\n\u001B[1;32m    637\u001B[0m \u001B[43m      \u001B[49m\u001B[38;5;66;43;03m# transparent, but do if it is None.\u001B[39;49;00m\n\u001B[1;32m    638\u001B[0m \u001B[43m      \u001B[49m\u001B[38;5;28;43mself\u001B[39;49m\u001B[38;5;241;43m.\u001B[39;49m\u001B[43m_facecolor\u001B[49m\u001B[43m \u001B[49m\u001B[38;5;28;43;01mif\u001B[39;49;00m\u001B[43m \u001B[49m\u001B[38;5;28;43mself\u001B[39;49m\u001B[38;5;241;43m.\u001B[39;49m\u001B[43m_facecolor\u001B[49m\u001B[43m[\u001B[49m\u001B[38;5;241;43m3\u001B[39;49m\u001B[43m]\u001B[49m\u001B[43m \u001B[49m\u001B[38;5;28;43;01melse\u001B[39;49;00m\u001B[43m \u001B[49m\u001B[38;5;28;43;01mNone\u001B[39;49;00m\u001B[43m)\u001B[49m\u001B[43m]\u001B[49m\u001B[43m)\u001B[49m\n",
      "File \u001B[0;32m~/opt/anaconda3/envs/healpix-geometry-analysis/lib/python3.12/site-packages/matplotlib/patches.py:617\u001B[0m, in \u001B[0;36mPatch._draw_paths_with_artist_properties\u001B[0;34m(self, renderer, draw_path_args_list)\u001B[0m\n\u001B[1;32m    614\u001B[0m     renderer \u001B[38;5;241m=\u001B[39m PathEffectRenderer(\u001B[38;5;28mself\u001B[39m\u001B[38;5;241m.\u001B[39mget_path_effects(), renderer)\n\u001B[1;32m    616\u001B[0m \u001B[38;5;28;01mfor\u001B[39;00m draw_path_args \u001B[38;5;129;01min\u001B[39;00m draw_path_args_list:\n\u001B[0;32m--> 617\u001B[0m     \u001B[43mrenderer\u001B[49m\u001B[38;5;241;43m.\u001B[39;49m\u001B[43mdraw_path\u001B[49m\u001B[43m(\u001B[49m\u001B[43mgc\u001B[49m\u001B[43m,\u001B[49m\u001B[43m \u001B[49m\u001B[38;5;241;43m*\u001B[39;49m\u001B[43mdraw_path_args\u001B[49m\u001B[43m)\u001B[49m\n\u001B[1;32m    619\u001B[0m gc\u001B[38;5;241m.\u001B[39mrestore()\n\u001B[1;32m    620\u001B[0m renderer\u001B[38;5;241m.\u001B[39mclose_group(\u001B[38;5;124m'\u001B[39m\u001B[38;5;124mpatch\u001B[39m\u001B[38;5;124m'\u001B[39m)\n",
      "File \u001B[0;32m~/opt/anaconda3/envs/healpix-geometry-analysis/lib/python3.12/site-packages/matplotlib/backends/backend_agg.py:131\u001B[0m, in \u001B[0;36mRendererAgg.draw_path\u001B[0;34m(self, gc, path, transform, rgbFace)\u001B[0m\n\u001B[1;32m    129\u001B[0m \u001B[38;5;28;01melse\u001B[39;00m:\n\u001B[1;32m    130\u001B[0m     \u001B[38;5;28;01mtry\u001B[39;00m:\n\u001B[0;32m--> 131\u001B[0m         \u001B[38;5;28;43mself\u001B[39;49m\u001B[38;5;241;43m.\u001B[39;49m\u001B[43m_renderer\u001B[49m\u001B[38;5;241;43m.\u001B[39;49m\u001B[43mdraw_path\u001B[49m\u001B[43m(\u001B[49m\u001B[43mgc\u001B[49m\u001B[43m,\u001B[49m\u001B[43m \u001B[49m\u001B[43mpath\u001B[49m\u001B[43m,\u001B[49m\u001B[43m \u001B[49m\u001B[43mtransform\u001B[49m\u001B[43m,\u001B[49m\u001B[43m \u001B[49m\u001B[43mrgbFace\u001B[49m\u001B[43m)\u001B[49m\n\u001B[1;32m    132\u001B[0m     \u001B[38;5;28;01mexcept\u001B[39;00m \u001B[38;5;167;01mOverflowError\u001B[39;00m:\n\u001B[1;32m    133\u001B[0m         cant_chunk \u001B[38;5;241m=\u001B[39m \u001B[38;5;124m'\u001B[39m\u001B[38;5;124m'\u001B[39m\n",
      "\u001B[0;31mValueError\u001B[0m: object __array__ method not producing an array"
     ]
    },
    {
     "ename": "ValueError",
     "evalue": "object __array__ method not producing an array",
     "output_type": "error",
     "traceback": [
      "\u001B[0;31m---------------------------------------------------------------------------\u001B[0m",
      "\u001B[0;31mValueError\u001B[0m                                Traceback (most recent call last)",
      "File \u001B[0;32m~/opt/anaconda3/envs/healpix-geometry-analysis/lib/python3.12/site-packages/IPython/core/formatters.py:343\u001B[0m, in \u001B[0;36mBaseFormatter.__call__\u001B[0;34m(self, obj)\u001B[0m\n\u001B[1;32m    341\u001B[0m     \u001B[38;5;28;01mpass\u001B[39;00m\n\u001B[1;32m    342\u001B[0m \u001B[38;5;28;01melse\u001B[39;00m:\n\u001B[0;32m--> 343\u001B[0m     \u001B[38;5;28;01mreturn\u001B[39;00m \u001B[43mprinter\u001B[49m\u001B[43m(\u001B[49m\u001B[43mobj\u001B[49m\u001B[43m)\u001B[49m\n\u001B[1;32m    344\u001B[0m \u001B[38;5;66;03m# Finally look for special method names\u001B[39;00m\n\u001B[1;32m    345\u001B[0m method \u001B[38;5;241m=\u001B[39m get_real_method(obj, \u001B[38;5;28mself\u001B[39m\u001B[38;5;241m.\u001B[39mprint_method)\n",
      "File \u001B[0;32m~/opt/anaconda3/envs/healpix-geometry-analysis/lib/python3.12/site-packages/IPython/core/pylabtools.py:170\u001B[0m, in \u001B[0;36mprint_figure\u001B[0;34m(fig, fmt, bbox_inches, base64, **kwargs)\u001B[0m\n\u001B[1;32m    167\u001B[0m     \u001B[38;5;28;01mfrom\u001B[39;00m \u001B[38;5;21;01mmatplotlib\u001B[39;00m\u001B[38;5;21;01m.\u001B[39;00m\u001B[38;5;21;01mbackend_bases\u001B[39;00m \u001B[38;5;28;01mimport\u001B[39;00m FigureCanvasBase\n\u001B[1;32m    168\u001B[0m     FigureCanvasBase(fig)\n\u001B[0;32m--> 170\u001B[0m \u001B[43mfig\u001B[49m\u001B[38;5;241;43m.\u001B[39;49m\u001B[43mcanvas\u001B[49m\u001B[38;5;241;43m.\u001B[39;49m\u001B[43mprint_figure\u001B[49m\u001B[43m(\u001B[49m\u001B[43mbytes_io\u001B[49m\u001B[43m,\u001B[49m\u001B[43m \u001B[49m\u001B[38;5;241;43m*\u001B[39;49m\u001B[38;5;241;43m*\u001B[39;49m\u001B[43mkw\u001B[49m\u001B[43m)\u001B[49m\n\u001B[1;32m    171\u001B[0m data \u001B[38;5;241m=\u001B[39m bytes_io\u001B[38;5;241m.\u001B[39mgetvalue()\n\u001B[1;32m    172\u001B[0m \u001B[38;5;28;01mif\u001B[39;00m fmt \u001B[38;5;241m==\u001B[39m \u001B[38;5;124m'\u001B[39m\u001B[38;5;124msvg\u001B[39m\u001B[38;5;124m'\u001B[39m:\n",
      "File \u001B[0;32m~/opt/anaconda3/envs/healpix-geometry-analysis/lib/python3.12/site-packages/matplotlib/backend_bases.py:2218\u001B[0m, in \u001B[0;36mFigureCanvasBase.print_figure\u001B[0;34m(self, filename, dpi, facecolor, edgecolor, orientation, format, bbox_inches, pad_inches, bbox_extra_artists, backend, **kwargs)\u001B[0m\n\u001B[1;32m   2214\u001B[0m \u001B[38;5;28;01mtry\u001B[39;00m:\n\u001B[1;32m   2215\u001B[0m     \u001B[38;5;66;03m# _get_renderer may change the figure dpi (as vector formats\u001B[39;00m\n\u001B[1;32m   2216\u001B[0m     \u001B[38;5;66;03m# force the figure dpi to 72), so we need to set it again here.\u001B[39;00m\n\u001B[1;32m   2217\u001B[0m     \u001B[38;5;28;01mwith\u001B[39;00m cbook\u001B[38;5;241m.\u001B[39m_setattr_cm(\u001B[38;5;28mself\u001B[39m\u001B[38;5;241m.\u001B[39mfigure, dpi\u001B[38;5;241m=\u001B[39mdpi):\n\u001B[0;32m-> 2218\u001B[0m         result \u001B[38;5;241m=\u001B[39m \u001B[43mprint_method\u001B[49m\u001B[43m(\u001B[49m\n\u001B[1;32m   2219\u001B[0m \u001B[43m            \u001B[49m\u001B[43mfilename\u001B[49m\u001B[43m,\u001B[49m\n\u001B[1;32m   2220\u001B[0m \u001B[43m            \u001B[49m\u001B[43mfacecolor\u001B[49m\u001B[38;5;241;43m=\u001B[39;49m\u001B[43mfacecolor\u001B[49m\u001B[43m,\u001B[49m\n\u001B[1;32m   2221\u001B[0m \u001B[43m            \u001B[49m\u001B[43medgecolor\u001B[49m\u001B[38;5;241;43m=\u001B[39;49m\u001B[43medgecolor\u001B[49m\u001B[43m,\u001B[49m\n\u001B[1;32m   2222\u001B[0m \u001B[43m            \u001B[49m\u001B[43morientation\u001B[49m\u001B[38;5;241;43m=\u001B[39;49m\u001B[43morientation\u001B[49m\u001B[43m,\u001B[49m\n\u001B[1;32m   2223\u001B[0m \u001B[43m            \u001B[49m\u001B[43mbbox_inches_restore\u001B[49m\u001B[38;5;241;43m=\u001B[39;49m\u001B[43m_bbox_inches_restore\u001B[49m\u001B[43m,\u001B[49m\n\u001B[1;32m   2224\u001B[0m \u001B[43m            \u001B[49m\u001B[38;5;241;43m*\u001B[39;49m\u001B[38;5;241;43m*\u001B[39;49m\u001B[43mkwargs\u001B[49m\u001B[43m)\u001B[49m\n\u001B[1;32m   2225\u001B[0m \u001B[38;5;28;01mfinally\u001B[39;00m:\n\u001B[1;32m   2226\u001B[0m     \u001B[38;5;28;01mif\u001B[39;00m bbox_inches \u001B[38;5;129;01mand\u001B[39;00m restore_bbox:\n",
      "File \u001B[0;32m~/opt/anaconda3/envs/healpix-geometry-analysis/lib/python3.12/site-packages/matplotlib/backend_bases.py:2068\u001B[0m, in \u001B[0;36mFigureCanvasBase._switch_canvas_and_return_print_method.<locals>.<lambda>\u001B[0;34m(*args, **kwargs)\u001B[0m\n\u001B[1;32m   2064\u001B[0m     optional_kws \u001B[38;5;241m=\u001B[39m {  \u001B[38;5;66;03m# Passed by print_figure for other renderers.\u001B[39;00m\n\u001B[1;32m   2065\u001B[0m         \u001B[38;5;124m\"\u001B[39m\u001B[38;5;124mdpi\u001B[39m\u001B[38;5;124m\"\u001B[39m, \u001B[38;5;124m\"\u001B[39m\u001B[38;5;124mfacecolor\u001B[39m\u001B[38;5;124m\"\u001B[39m, \u001B[38;5;124m\"\u001B[39m\u001B[38;5;124medgecolor\u001B[39m\u001B[38;5;124m\"\u001B[39m, \u001B[38;5;124m\"\u001B[39m\u001B[38;5;124morientation\u001B[39m\u001B[38;5;124m\"\u001B[39m,\n\u001B[1;32m   2066\u001B[0m         \u001B[38;5;124m\"\u001B[39m\u001B[38;5;124mbbox_inches_restore\u001B[39m\u001B[38;5;124m\"\u001B[39m}\n\u001B[1;32m   2067\u001B[0m     skip \u001B[38;5;241m=\u001B[39m optional_kws \u001B[38;5;241m-\u001B[39m {\u001B[38;5;241m*\u001B[39minspect\u001B[38;5;241m.\u001B[39msignature(meth)\u001B[38;5;241m.\u001B[39mparameters}\n\u001B[0;32m-> 2068\u001B[0m     print_method \u001B[38;5;241m=\u001B[39m functools\u001B[38;5;241m.\u001B[39mwraps(meth)(\u001B[38;5;28;01mlambda\u001B[39;00m \u001B[38;5;241m*\u001B[39margs, \u001B[38;5;241m*\u001B[39m\u001B[38;5;241m*\u001B[39mkwargs: \u001B[43mmeth\u001B[49m\u001B[43m(\u001B[49m\n\u001B[1;32m   2069\u001B[0m \u001B[43m        \u001B[49m\u001B[38;5;241;43m*\u001B[39;49m\u001B[43margs\u001B[49m\u001B[43m,\u001B[49m\u001B[43m \u001B[49m\u001B[38;5;241;43m*\u001B[39;49m\u001B[38;5;241;43m*\u001B[39;49m\u001B[43m{\u001B[49m\u001B[43mk\u001B[49m\u001B[43m:\u001B[49m\u001B[43m \u001B[49m\u001B[43mv\u001B[49m\u001B[43m \u001B[49m\u001B[38;5;28;43;01mfor\u001B[39;49;00m\u001B[43m \u001B[49m\u001B[43mk\u001B[49m\u001B[43m,\u001B[49m\u001B[43m \u001B[49m\u001B[43mv\u001B[49m\u001B[43m \u001B[49m\u001B[38;5;129;43;01min\u001B[39;49;00m\u001B[43m \u001B[49m\u001B[43mkwargs\u001B[49m\u001B[38;5;241;43m.\u001B[39;49m\u001B[43mitems\u001B[49m\u001B[43m(\u001B[49m\u001B[43m)\u001B[49m\u001B[43m \u001B[49m\u001B[38;5;28;43;01mif\u001B[39;49;00m\u001B[43m \u001B[49m\u001B[43mk\u001B[49m\u001B[43m \u001B[49m\u001B[38;5;129;43;01mnot\u001B[39;49;00m\u001B[43m \u001B[49m\u001B[38;5;129;43;01min\u001B[39;49;00m\u001B[43m \u001B[49m\u001B[43mskip\u001B[49m\u001B[43m}\u001B[49m\u001B[43m)\u001B[49m)\n\u001B[1;32m   2070\u001B[0m \u001B[38;5;28;01melse\u001B[39;00m:  \u001B[38;5;66;03m# Let third-parties do as they see fit.\u001B[39;00m\n\u001B[1;32m   2071\u001B[0m     print_method \u001B[38;5;241m=\u001B[39m meth\n",
      "File \u001B[0;32m~/opt/anaconda3/envs/healpix-geometry-analysis/lib/python3.12/site-packages/matplotlib/backends/backend_agg.py:496\u001B[0m, in \u001B[0;36mFigureCanvasAgg.print_png\u001B[0;34m(self, filename_or_obj, metadata, pil_kwargs)\u001B[0m\n\u001B[1;32m    449\u001B[0m \u001B[38;5;28;01mdef\u001B[39;00m \u001B[38;5;21mprint_png\u001B[39m(\u001B[38;5;28mself\u001B[39m, filename_or_obj, \u001B[38;5;241m*\u001B[39m, metadata\u001B[38;5;241m=\u001B[39m\u001B[38;5;28;01mNone\u001B[39;00m, pil_kwargs\u001B[38;5;241m=\u001B[39m\u001B[38;5;28;01mNone\u001B[39;00m):\n\u001B[1;32m    450\u001B[0m \u001B[38;5;250m    \u001B[39m\u001B[38;5;124;03m\"\"\"\u001B[39;00m\n\u001B[1;32m    451\u001B[0m \u001B[38;5;124;03m    Write the figure to a PNG file.\u001B[39;00m\n\u001B[1;32m    452\u001B[0m \n\u001B[0;32m   (...)\u001B[0m\n\u001B[1;32m    494\u001B[0m \u001B[38;5;124;03m        *metadata*, including the default 'Software' key.\u001B[39;00m\n\u001B[1;32m    495\u001B[0m \u001B[38;5;124;03m    \"\"\"\u001B[39;00m\n\u001B[0;32m--> 496\u001B[0m     \u001B[38;5;28;43mself\u001B[39;49m\u001B[38;5;241;43m.\u001B[39;49m\u001B[43m_print_pil\u001B[49m\u001B[43m(\u001B[49m\u001B[43mfilename_or_obj\u001B[49m\u001B[43m,\u001B[49m\u001B[43m \u001B[49m\u001B[38;5;124;43m\"\u001B[39;49m\u001B[38;5;124;43mpng\u001B[39;49m\u001B[38;5;124;43m\"\u001B[39;49m\u001B[43m,\u001B[49m\u001B[43m \u001B[49m\u001B[43mpil_kwargs\u001B[49m\u001B[43m,\u001B[49m\u001B[43m \u001B[49m\u001B[43mmetadata\u001B[49m\u001B[43m)\u001B[49m\n",
      "File \u001B[0;32m~/opt/anaconda3/envs/healpix-geometry-analysis/lib/python3.12/site-packages/matplotlib/backends/backend_agg.py:444\u001B[0m, in \u001B[0;36mFigureCanvasAgg._print_pil\u001B[0;34m(self, filename_or_obj, fmt, pil_kwargs, metadata)\u001B[0m\n\u001B[1;32m    439\u001B[0m \u001B[38;5;28;01mdef\u001B[39;00m \u001B[38;5;21m_print_pil\u001B[39m(\u001B[38;5;28mself\u001B[39m, filename_or_obj, fmt, pil_kwargs, metadata\u001B[38;5;241m=\u001B[39m\u001B[38;5;28;01mNone\u001B[39;00m):\n\u001B[1;32m    440\u001B[0m \u001B[38;5;250m    \u001B[39m\u001B[38;5;124;03m\"\"\"\u001B[39;00m\n\u001B[1;32m    441\u001B[0m \u001B[38;5;124;03m    Draw the canvas, then save it using `.image.imsave` (to which\u001B[39;00m\n\u001B[1;32m    442\u001B[0m \u001B[38;5;124;03m    *pil_kwargs* and *metadata* are forwarded).\u001B[39;00m\n\u001B[1;32m    443\u001B[0m \u001B[38;5;124;03m    \"\"\"\u001B[39;00m\n\u001B[0;32m--> 444\u001B[0m     \u001B[43mFigureCanvasAgg\u001B[49m\u001B[38;5;241;43m.\u001B[39;49m\u001B[43mdraw\u001B[49m\u001B[43m(\u001B[49m\u001B[38;5;28;43mself\u001B[39;49m\u001B[43m)\u001B[49m\n\u001B[1;32m    445\u001B[0m     mpl\u001B[38;5;241m.\u001B[39mimage\u001B[38;5;241m.\u001B[39mimsave(\n\u001B[1;32m    446\u001B[0m         filename_or_obj, \u001B[38;5;28mself\u001B[39m\u001B[38;5;241m.\u001B[39mbuffer_rgba(), \u001B[38;5;28mformat\u001B[39m\u001B[38;5;241m=\u001B[39mfmt, origin\u001B[38;5;241m=\u001B[39m\u001B[38;5;124m\"\u001B[39m\u001B[38;5;124mupper\u001B[39m\u001B[38;5;124m\"\u001B[39m,\n\u001B[1;32m    447\u001B[0m         dpi\u001B[38;5;241m=\u001B[39m\u001B[38;5;28mself\u001B[39m\u001B[38;5;241m.\u001B[39mfigure\u001B[38;5;241m.\u001B[39mdpi, metadata\u001B[38;5;241m=\u001B[39mmetadata, pil_kwargs\u001B[38;5;241m=\u001B[39mpil_kwargs)\n",
      "File \u001B[0;32m~/opt/anaconda3/envs/healpix-geometry-analysis/lib/python3.12/site-packages/matplotlib/backends/backend_agg.py:387\u001B[0m, in \u001B[0;36mFigureCanvasAgg.draw\u001B[0;34m(self)\u001B[0m\n\u001B[1;32m    384\u001B[0m \u001B[38;5;66;03m# Acquire a lock on the shared font cache.\u001B[39;00m\n\u001B[1;32m    385\u001B[0m \u001B[38;5;28;01mwith\u001B[39;00m (\u001B[38;5;28mself\u001B[39m\u001B[38;5;241m.\u001B[39mtoolbar\u001B[38;5;241m.\u001B[39m_wait_cursor_for_draw_cm() \u001B[38;5;28;01mif\u001B[39;00m \u001B[38;5;28mself\u001B[39m\u001B[38;5;241m.\u001B[39mtoolbar\n\u001B[1;32m    386\u001B[0m       \u001B[38;5;28;01melse\u001B[39;00m nullcontext()):\n\u001B[0;32m--> 387\u001B[0m     \u001B[38;5;28;43mself\u001B[39;49m\u001B[38;5;241;43m.\u001B[39;49m\u001B[43mfigure\u001B[49m\u001B[38;5;241;43m.\u001B[39;49m\u001B[43mdraw\u001B[49m\u001B[43m(\u001B[49m\u001B[38;5;28;43mself\u001B[39;49m\u001B[38;5;241;43m.\u001B[39;49m\u001B[43mrenderer\u001B[49m\u001B[43m)\u001B[49m\n\u001B[1;32m    388\u001B[0m     \u001B[38;5;66;03m# A GUI class may be need to update a window using this draw, so\u001B[39;00m\n\u001B[1;32m    389\u001B[0m     \u001B[38;5;66;03m# don't forget to call the superclass.\u001B[39;00m\n\u001B[1;32m    390\u001B[0m     \u001B[38;5;28msuper\u001B[39m()\u001B[38;5;241m.\u001B[39mdraw()\n",
      "File \u001B[0;32m~/opt/anaconda3/envs/healpix-geometry-analysis/lib/python3.12/site-packages/matplotlib/artist.py:95\u001B[0m, in \u001B[0;36m_finalize_rasterization.<locals>.draw_wrapper\u001B[0;34m(artist, renderer, *args, **kwargs)\u001B[0m\n\u001B[1;32m     93\u001B[0m \u001B[38;5;129m@wraps\u001B[39m(draw)\n\u001B[1;32m     94\u001B[0m \u001B[38;5;28;01mdef\u001B[39;00m \u001B[38;5;21mdraw_wrapper\u001B[39m(artist, renderer, \u001B[38;5;241m*\u001B[39margs, \u001B[38;5;241m*\u001B[39m\u001B[38;5;241m*\u001B[39mkwargs):\n\u001B[0;32m---> 95\u001B[0m     result \u001B[38;5;241m=\u001B[39m \u001B[43mdraw\u001B[49m\u001B[43m(\u001B[49m\u001B[43martist\u001B[49m\u001B[43m,\u001B[49m\u001B[43m \u001B[49m\u001B[43mrenderer\u001B[49m\u001B[43m,\u001B[49m\u001B[43m \u001B[49m\u001B[38;5;241;43m*\u001B[39;49m\u001B[43margs\u001B[49m\u001B[43m,\u001B[49m\u001B[43m \u001B[49m\u001B[38;5;241;43m*\u001B[39;49m\u001B[38;5;241;43m*\u001B[39;49m\u001B[43mkwargs\u001B[49m\u001B[43m)\u001B[49m\n\u001B[1;32m     96\u001B[0m     \u001B[38;5;28;01mif\u001B[39;00m renderer\u001B[38;5;241m.\u001B[39m_rasterizing:\n\u001B[1;32m     97\u001B[0m         renderer\u001B[38;5;241m.\u001B[39mstop_rasterizing()\n",
      "File \u001B[0;32m~/opt/anaconda3/envs/healpix-geometry-analysis/lib/python3.12/site-packages/matplotlib/artist.py:72\u001B[0m, in \u001B[0;36mallow_rasterization.<locals>.draw_wrapper\u001B[0;34m(artist, renderer)\u001B[0m\n\u001B[1;32m     69\u001B[0m     \u001B[38;5;28;01mif\u001B[39;00m artist\u001B[38;5;241m.\u001B[39mget_agg_filter() \u001B[38;5;129;01mis\u001B[39;00m \u001B[38;5;129;01mnot\u001B[39;00m \u001B[38;5;28;01mNone\u001B[39;00m:\n\u001B[1;32m     70\u001B[0m         renderer\u001B[38;5;241m.\u001B[39mstart_filter()\n\u001B[0;32m---> 72\u001B[0m     \u001B[38;5;28;01mreturn\u001B[39;00m \u001B[43mdraw\u001B[49m\u001B[43m(\u001B[49m\u001B[43martist\u001B[49m\u001B[43m,\u001B[49m\u001B[43m \u001B[49m\u001B[43mrenderer\u001B[49m\u001B[43m)\u001B[49m\n\u001B[1;32m     73\u001B[0m \u001B[38;5;28;01mfinally\u001B[39;00m:\n\u001B[1;32m     74\u001B[0m     \u001B[38;5;28;01mif\u001B[39;00m artist\u001B[38;5;241m.\u001B[39mget_agg_filter() \u001B[38;5;129;01mis\u001B[39;00m \u001B[38;5;129;01mnot\u001B[39;00m \u001B[38;5;28;01mNone\u001B[39;00m:\n",
      "File \u001B[0;32m~/opt/anaconda3/envs/healpix-geometry-analysis/lib/python3.12/site-packages/matplotlib/figure.py:3154\u001B[0m, in \u001B[0;36mFigure.draw\u001B[0;34m(self, renderer)\u001B[0m\n\u001B[1;32m   3151\u001B[0m         \u001B[38;5;28;01mpass\u001B[39;00m\n\u001B[1;32m   3152\u001B[0m         \u001B[38;5;66;03m# ValueError can occur when resizing a window.\u001B[39;00m\n\u001B[0;32m-> 3154\u001B[0m \u001B[38;5;28;43mself\u001B[39;49m\u001B[38;5;241;43m.\u001B[39;49m\u001B[43mpatch\u001B[49m\u001B[38;5;241;43m.\u001B[39;49m\u001B[43mdraw\u001B[49m\u001B[43m(\u001B[49m\u001B[43mrenderer\u001B[49m\u001B[43m)\u001B[49m\n\u001B[1;32m   3155\u001B[0m mimage\u001B[38;5;241m.\u001B[39m_draw_list_compositing_images(\n\u001B[1;32m   3156\u001B[0m     renderer, \u001B[38;5;28mself\u001B[39m, artists, \u001B[38;5;28mself\u001B[39m\u001B[38;5;241m.\u001B[39msuppressComposite)\n\u001B[1;32m   3158\u001B[0m renderer\u001B[38;5;241m.\u001B[39mclose_group(\u001B[38;5;124m'\u001B[39m\u001B[38;5;124mfigure\u001B[39m\u001B[38;5;124m'\u001B[39m)\n",
      "File \u001B[0;32m~/opt/anaconda3/envs/healpix-geometry-analysis/lib/python3.12/site-packages/matplotlib/artist.py:72\u001B[0m, in \u001B[0;36mallow_rasterization.<locals>.draw_wrapper\u001B[0;34m(artist, renderer)\u001B[0m\n\u001B[1;32m     69\u001B[0m     \u001B[38;5;28;01mif\u001B[39;00m artist\u001B[38;5;241m.\u001B[39mget_agg_filter() \u001B[38;5;129;01mis\u001B[39;00m \u001B[38;5;129;01mnot\u001B[39;00m \u001B[38;5;28;01mNone\u001B[39;00m:\n\u001B[1;32m     70\u001B[0m         renderer\u001B[38;5;241m.\u001B[39mstart_filter()\n\u001B[0;32m---> 72\u001B[0m     \u001B[38;5;28;01mreturn\u001B[39;00m \u001B[43mdraw\u001B[49m\u001B[43m(\u001B[49m\u001B[43martist\u001B[49m\u001B[43m,\u001B[49m\u001B[43m \u001B[49m\u001B[43mrenderer\u001B[49m\u001B[43m)\u001B[49m\n\u001B[1;32m     73\u001B[0m \u001B[38;5;28;01mfinally\u001B[39;00m:\n\u001B[1;32m     74\u001B[0m     \u001B[38;5;28;01mif\u001B[39;00m artist\u001B[38;5;241m.\u001B[39mget_agg_filter() \u001B[38;5;129;01mis\u001B[39;00m \u001B[38;5;129;01mnot\u001B[39;00m \u001B[38;5;28;01mNone\u001B[39;00m:\n",
      "File \u001B[0;32m~/opt/anaconda3/envs/healpix-geometry-analysis/lib/python3.12/site-packages/matplotlib/patches.py:632\u001B[0m, in \u001B[0;36mPatch.draw\u001B[0;34m(self, renderer)\u001B[0m\n\u001B[1;32m    630\u001B[0m tpath \u001B[38;5;241m=\u001B[39m transform\u001B[38;5;241m.\u001B[39mtransform_path_non_affine(path)\n\u001B[1;32m    631\u001B[0m affine \u001B[38;5;241m=\u001B[39m transform\u001B[38;5;241m.\u001B[39mget_affine()\n\u001B[0;32m--> 632\u001B[0m \u001B[38;5;28;43mself\u001B[39;49m\u001B[38;5;241;43m.\u001B[39;49m\u001B[43m_draw_paths_with_artist_properties\u001B[49m\u001B[43m(\u001B[49m\n\u001B[1;32m    633\u001B[0m \u001B[43m    \u001B[49m\u001B[43mrenderer\u001B[49m\u001B[43m,\u001B[49m\n\u001B[1;32m    634\u001B[0m \u001B[43m    \u001B[49m\u001B[43m[\u001B[49m\u001B[43m(\u001B[49m\u001B[43mtpath\u001B[49m\u001B[43m,\u001B[49m\u001B[43m \u001B[49m\u001B[43maffine\u001B[49m\u001B[43m,\u001B[49m\n\u001B[1;32m    635\u001B[0m \u001B[43m      \u001B[49m\u001B[38;5;66;43;03m# Work around a bug in the PDF and SVG renderers, which\u001B[39;49;00m\n\u001B[1;32m    636\u001B[0m \u001B[43m      \u001B[49m\u001B[38;5;66;43;03m# do not draw the hatches if the facecolor is fully\u001B[39;49;00m\n\u001B[1;32m    637\u001B[0m \u001B[43m      \u001B[49m\u001B[38;5;66;43;03m# transparent, but do if it is None.\u001B[39;49;00m\n\u001B[1;32m    638\u001B[0m \u001B[43m      \u001B[49m\u001B[38;5;28;43mself\u001B[39;49m\u001B[38;5;241;43m.\u001B[39;49m\u001B[43m_facecolor\u001B[49m\u001B[43m \u001B[49m\u001B[38;5;28;43;01mif\u001B[39;49;00m\u001B[43m \u001B[49m\u001B[38;5;28;43mself\u001B[39;49m\u001B[38;5;241;43m.\u001B[39;49m\u001B[43m_facecolor\u001B[49m\u001B[43m[\u001B[49m\u001B[38;5;241;43m3\u001B[39;49m\u001B[43m]\u001B[49m\u001B[43m \u001B[49m\u001B[38;5;28;43;01melse\u001B[39;49;00m\u001B[43m \u001B[49m\u001B[38;5;28;43;01mNone\u001B[39;49;00m\u001B[43m)\u001B[49m\u001B[43m]\u001B[49m\u001B[43m)\u001B[49m\n",
      "File \u001B[0;32m~/opt/anaconda3/envs/healpix-geometry-analysis/lib/python3.12/site-packages/matplotlib/patches.py:617\u001B[0m, in \u001B[0;36mPatch._draw_paths_with_artist_properties\u001B[0;34m(self, renderer, draw_path_args_list)\u001B[0m\n\u001B[1;32m    614\u001B[0m     renderer \u001B[38;5;241m=\u001B[39m PathEffectRenderer(\u001B[38;5;28mself\u001B[39m\u001B[38;5;241m.\u001B[39mget_path_effects(), renderer)\n\u001B[1;32m    616\u001B[0m \u001B[38;5;28;01mfor\u001B[39;00m draw_path_args \u001B[38;5;129;01min\u001B[39;00m draw_path_args_list:\n\u001B[0;32m--> 617\u001B[0m     \u001B[43mrenderer\u001B[49m\u001B[38;5;241;43m.\u001B[39;49m\u001B[43mdraw_path\u001B[49m\u001B[43m(\u001B[49m\u001B[43mgc\u001B[49m\u001B[43m,\u001B[49m\u001B[43m \u001B[49m\u001B[38;5;241;43m*\u001B[39;49m\u001B[43mdraw_path_args\u001B[49m\u001B[43m)\u001B[49m\n\u001B[1;32m    619\u001B[0m gc\u001B[38;5;241m.\u001B[39mrestore()\n\u001B[1;32m    620\u001B[0m renderer\u001B[38;5;241m.\u001B[39mclose_group(\u001B[38;5;124m'\u001B[39m\u001B[38;5;124mpatch\u001B[39m\u001B[38;5;124m'\u001B[39m)\n",
      "File \u001B[0;32m~/opt/anaconda3/envs/healpix-geometry-analysis/lib/python3.12/site-packages/matplotlib/backends/backend_agg.py:131\u001B[0m, in \u001B[0;36mRendererAgg.draw_path\u001B[0;34m(self, gc, path, transform, rgbFace)\u001B[0m\n\u001B[1;32m    129\u001B[0m \u001B[38;5;28;01melse\u001B[39;00m:\n\u001B[1;32m    130\u001B[0m     \u001B[38;5;28;01mtry\u001B[39;00m:\n\u001B[0;32m--> 131\u001B[0m         \u001B[38;5;28;43mself\u001B[39;49m\u001B[38;5;241;43m.\u001B[39;49m\u001B[43m_renderer\u001B[49m\u001B[38;5;241;43m.\u001B[39;49m\u001B[43mdraw_path\u001B[49m\u001B[43m(\u001B[49m\u001B[43mgc\u001B[49m\u001B[43m,\u001B[49m\u001B[43m \u001B[49m\u001B[43mpath\u001B[49m\u001B[43m,\u001B[49m\u001B[43m \u001B[49m\u001B[43mtransform\u001B[49m\u001B[43m,\u001B[49m\u001B[43m \u001B[49m\u001B[43mrgbFace\u001B[49m\u001B[43m)\u001B[49m\n\u001B[1;32m    132\u001B[0m     \u001B[38;5;28;01mexcept\u001B[39;00m \u001B[38;5;167;01mOverflowError\u001B[39;00m:\n\u001B[1;32m    133\u001B[0m         cant_chunk \u001B[38;5;241m=\u001B[39m \u001B[38;5;124m'\u001B[39m\u001B[38;5;124m'\u001B[39m\n",
      "\u001B[0;31mValueError\u001B[0m: object __array__ method not producing an array"
     ]
    },
    {
     "data": {
      "text/plain": [
       "<Figure size 640x480 with 1 Axes>"
      ]
     },
     "metadata": {},
     "output_type": "display_data"
    }
   ],
   "execution_count": 41
  },
  {
   "cell_type": "markdown",
   "id": "75b9333be0d137d0",
   "metadata": {},
   "source": [
    "## Use NUTS sampler"
   ]
  },
  {
   "cell_type": "code",
   "id": "22d4a055b369364c",
   "metadata": {
    "ExecuteTime": {
     "end_time": "2024-07-16T19:04:18.703582Z",
     "start_time": "2024-07-16T18:34:47.813292Z"
    }
   },
   "source": [
    "%%time\n",
    "\n",
    "\n",
    "@partial(jax.vmap, in_axes=[None, 0, 0, None])\n",
    "def solve_with_nuts(direction, k_c, kp_c, random_seed=0):\n",
    "    geometry = TileGeometry(\n",
    "        coord=coord,\n",
    "        k_center=k_c,\n",
    "        kp_center=kp_c,\n",
    "        direction=direction,\n",
    "        distance=\"chord_squared\",\n",
    "    )\n",
    "    problem = NumpyroSamplerProblem(geometry, track_arc_length=True)\n",
    "\n",
    "    kernel = NUTS(problem.model)\n",
    "    mcmc = MCMC(kernel, num_warmup=0, num_samples=10_000, jit_model_args=True, progress_bar=False)\n",
    "    rng_key = jax.random.PRNGKey(random_seed)\n",
    "    mcmc.run(rng_key)\n",
    "\n",
    "    samples = mcmc.get_samples()\n",
    "\n",
    "    argmin = jnp.argmin(samples[\"distance\"])\n",
    "    return jax.tree.map(lambda x: x[argmin], samples)\n",
    "\n",
    "\n",
    "random_seeds = {\"p\": 1, \"m\": -1}\n",
    "samples = {direction: solve_with_nuts(direction, k, kp, seed) for direction, seed in random_seeds.items()}\n",
    "\n",
    "min_arc_length = min(float(jnp.min(samples[\"arc_length_degree\"])) for samples in samples.values())\n",
    "average_size = coord.grid.average_pixel_size_degree\n",
    "ratio = min_arc_length / average_size\n",
    "print(f\"{min_arc_length = :.4f}, {average_size = : .4f} {ratio = : .4f}\")"
   ],
   "outputs": [
    {
     "name": "stderr",
     "output_type": "stream",
     "text": [
      "/Users/smcmu/opt/anaconda3/envs/healpix-geometry-analysis/lib/python3.12/site-packages/jax/_src/interpreters/mlir.py:920: UserWarning: Some donated buffers were not usable: ShapedArray(bool[10000]).\n",
      "See an explanation at https://jax.readthedocs.io/en/latest/faq.html#buffer-donation.\n",
      "  warnings.warn(\"Some donated buffers were not usable:\"\n",
      "/Users/smcmu/opt/anaconda3/envs/healpix-geometry-analysis/lib/python3.12/site-packages/jax/_src/interpreters/mlir.py:920: UserWarning: Some donated buffers were not usable: ShapedArray(bool[10000]).\n",
      "See an explanation at https://jax.readthedocs.io/en/latest/faq.html#buffer-donation.\n",
      "  warnings.warn(\"Some donated buffers were not usable:\"\n"
     ]
    },
    {
     "name": "stdout",
     "output_type": "stream",
     "text": [
      "min_arc_length = 0.1547, average_size =  0.2290 ratio =  0.6754\n",
      "CPU times: user 34min 40s, sys: 6min 30s, total: 41min 11s\n",
      "Wall time: 29min 30s\n"
     ]
    }
   ],
   "execution_count": 25
  },
  {
   "cell_type": "markdown",
   "id": "2d38fcbabd74131e",
   "metadata": {},
   "source": [
    "## Use AdaBelief optimizer"
   ]
  },
  {
   "cell_type": "code",
   "id": "8a340519783e6a84",
   "metadata": {
    "ExecuteTime": {
     "end_time": "2024-07-16T19:29:55.947916Z",
     "start_time": "2024-07-16T19:29:40.981361Z"
    }
   },
   "source": [
    "%%time\n",
    "\n",
    "\n",
    "@partial(jax.vmap, in_axes=[None, 0, 0, None])\n",
    "def solve_with_ada(direction, k_c, kp_c, random_seed=0):\n",
    "    geometry = TileGeometry(\n",
    "        coord=coord,\n",
    "        k_center=k_c,\n",
    "        kp_center=kp_c,\n",
    "        direction=direction,\n",
    "        distance=\"chord_squared\",\n",
    "    )\n",
    "    problem = OptaxOptimizerProblem(geometry)\n",
    "\n",
    "    optimizer = problem.freeze_optimizer(optax.adabelief(1e-1))\n",
    "    rng_key = jax.random.PRNGKey(random_seed)\n",
    "    params = problem.initial_params(rng_key)\n",
    "    opt_state = optimizer.init(params)\n",
    "\n",
    "    for _ in range(100):\n",
    "        loss, grads = jax.value_and_grad(problem.loss)(params)\n",
    "        grads = jax.tree.map(lambda x: jnp.where(jnp.isfinite(x), x, 0.0), grads)\n",
    "        updates, opt_state = optimizer.update(grads, opt_state, params)\n",
    "        params = optax.apply_updates(params, updates)\n",
    "        params = optax.projections.projection_box(\n",
    "            params, problem.geometry.lower_bounds, problem.geometry.upper_bounds\n",
    "        )\n",
    "\n",
    "    arc_distance_deg = problem.geometry.arc_length_degrees(loss)\n",
    "    return arc_distance_deg, params\n",
    "\n",
    "\n",
    "random_seeds = {\"p\": 1, \"m\": -1}\n",
    "arc_distance_res = [solve_with_ada(direction, k, kp, seed) for direction, seed in random_seeds.items()]\n",
    "arc_distance_deg = jnp.concatenate([i[0] for i in arc_distance_res])\n",
    "arc_distance_params = {key: jnp.concatenate([res[1][key] for res in arc_distance_res]) for key in arc_distance_res[0][1]}\n",
    "min_arc_length_ind = jnp.argmin(arc_distance_deg)\n",
    "min_arc_length = arc_distance_deg[min_arc_length_ind]\n",
    "min_arc_params = {key: res[min_arc_length_ind] for key, res in arc_distance_params.items()}\n",
    "average_size = coord.grid.average_pixel_size_degree\n",
    "ratio = min_arc_length / average_size\n",
    "print(f\"{min_arc_length = :.4f}, {average_size = : .4f} {ratio = : .4f}\")\n",
    "min_arc_params"
   ],
   "outputs": [
    {
     "name": "stdout",
     "output_type": "stream",
     "text": [
      "min_arc_length = 0.1547, average_size =  0.2290 ratio =  0.6754\n",
      "CPU times: user 14.5 s, sys: 251 ms, total: 14.8 s\n",
      "Wall time: 15 s\n"
     ]
    },
    {
     "data": {
      "text/plain": [
       "{'k1': Array(0.2853791, dtype=float64),\n",
       " 'k2': Array(0., dtype=float64),\n",
       " 'kp1': Array(39., dtype=float64),\n",
       " 'kp2': Array(40., dtype=float64)}"
      ]
     },
     "execution_count": 49,
     "metadata": {},
     "output_type": "execute_result"
    }
   ],
   "execution_count": 49
  },
  {
   "metadata": {
    "ExecuteTime": {
     "end_time": "2024-07-16T19:16:21.665830Z",
     "start_time": "2024-07-16T19:16:21.540643Z"
    }
   },
   "cell_type": "code",
   "source": "jnp.deg2rad(min_arc_length)",
   "id": "8ad299bb796e2737",
   "outputs": [
    {
     "data": {
      "text/plain": [
       "Array(0.0026998, dtype=float64)"
      ]
     },
     "execution_count": 43,
     "metadata": {},
     "output_type": "execute_result"
    }
   ],
   "execution_count": 43
  },
  {
   "metadata": {},
   "cell_type": "code",
   "outputs": [],
   "execution_count": null,
   "source": "",
   "id": "ec98717011716080"
  }
 ],
 "metadata": {
  "kernelspec": {
   "display_name": "Python 3",
   "language": "python",
   "name": "python3"
  },
  "language_info": {
   "codemirror_mode": {
    "name": "ipython",
    "version": 2
   },
   "file_extension": ".py",
   "mimetype": "text/x-python",
   "name": "python",
   "nbconvert_exporter": "python",
   "pygments_lexer": "ipython2",
   "version": "2.7.6"
  }
 },
 "nbformat": 4,
 "nbformat_minor": 5
}
