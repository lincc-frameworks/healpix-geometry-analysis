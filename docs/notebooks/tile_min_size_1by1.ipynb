{
 "cells": [
  {
   "cell_type": "markdown",
   "id": "5e888167830e8967",
   "metadata": {},
   "source": [
    "# Analysis for the minimum size for every tile of a grid"
   ]
  },
  {
   "cell_type": "code",
   "execution_count": null,
   "id": "f4bb6871af102d56",
   "metadata": {
    "ExecuteTime": {
     "end_time": "2024-07-17T21:26:11.700772Z",
     "start_time": "2024-07-17T21:26:11.697782Z"
    }
   },
   "outputs": [],
   "source": [
    "NSIDE = 1 << 4"
   ]
  },
  {
   "cell_type": "markdown",
   "id": "b7536e7da32df9",
   "metadata": {},
   "source": [
    "## Imports"
   ]
  },
  {
   "cell_type": "code",
   "execution_count": null,
   "id": "57fa7fa66ab3d5c0",
   "metadata": {
    "ExecuteTime": {
     "end_time": "2024-07-17T21:26:12.634248Z",
     "start_time": "2024-07-17T21:26:11.701790Z"
    }
   },
   "outputs": [],
   "source": [
    "import os\n",
    "from functools import partial\n",
    "\n",
    "import jax\n",
    "import jax.numpy as jnp\n",
    "import matplotlib.pyplot as plt\n",
    "import optax\n",
    "from numpyro.infer import MCMC, NUTS\n",
    "\n",
    "from healpix_geometry_analysis.coordinates import HealpixCoordinates\n",
    "from healpix_geometry_analysis.geometry.tile import TileGeometry\n",
    "from healpix_geometry_analysis.problems.numpyro_sampler import NumpyroSamplerProblem\n",
    "from healpix_geometry_analysis.problems.optax_optimizer import OptaxOptimizerProblem\n",
    "from healpix_geometry_analysis.enable_x64 import enable_x64\n",
    "\n",
    "enable_x64()"
   ]
  },
  {
   "cell_type": "markdown",
   "id": "e3e9dfbe818de3ff",
   "metadata": {},
   "source": [
    "## Initializa a coordinate object, which knows few coordinate system transformations"
   ]
  },
  {
   "cell_type": "code",
   "execution_count": null,
   "id": "3bc13fcf4eb9c747",
   "metadata": {
    "ExecuteTime": {
     "end_time": "2024-07-17T21:26:12.655671Z",
     "start_time": "2024-07-17T21:26:12.634963Z"
    }
   },
   "outputs": [],
   "source": [
    "coord = HealpixCoordinates.from_nside(NSIDE)"
   ]
  },
  {
   "cell_type": "markdown",
   "id": "b0c0b2514cf1ab64",
   "metadata": {},
   "source": [
    "## Making a list of tiles"
   ]
  },
  {
   "cell_type": "code",
   "execution_count": null,
   "id": "69b3011e7a38f3b9",
   "metadata": {
    "ExecuteTime": {
     "end_time": "2024-07-17T21:26:13.074963Z",
     "start_time": "2024-07-17T21:26:12.656748Z"
    }
   },
   "outputs": [],
   "source": [
    "k, kp = coord.unique_tiles()\n",
    "print(f\"tile count: {k.size}\")"
   ]
  },
  {
   "cell_type": "code",
   "execution_count": null,
   "id": "c859164b16234847",
   "metadata": {
    "ExecuteTime": {
     "end_time": "2024-07-17T21:26:13.414059Z",
     "start_time": "2024-07-17T21:26:13.075581Z"
    }
   },
   "outputs": [],
   "source": [
    "if k.size < 100_000:\n",
    "    plt.scatter(*coord.phi_z(k, kp), s=10)\n",
    "    plt.xlabel(r\"$\\phi$\")\n",
    "    plt.ylabel(\"$z$\")\n",
    "    plt.hlines(2 / 3, 0, jnp.pi / 4, ls=\"--\", color=\"gray\")\n",
    "else:\n",
    "    print(\"Too many tiles to plot\")"
   ]
  },
  {
   "cell_type": "markdown",
   "id": "75b9333be0d137d0",
   "metadata": {},
   "source": [
    "## Use NUTS sampler"
   ]
  },
  {
   "cell_type": "code",
   "execution_count": null,
   "id": "22d4a055b369364c",
   "metadata": {
    "ExecuteTime": {
     "end_time": "2024-07-17T21:26:13.416602Z",
     "start_time": "2024-07-17T21:26:13.414815Z"
    }
   },
   "outputs": [],
   "source": [
    "# %%time\n",
    "#\n",
    "#\n",
    "# @partial(jax.vmap, in_axes=[None, 0, 0, None])\n",
    "# def solve_with_nuts(direction, k_c, kp_c, random_seed=0):\n",
    "#     geometry = TileGeometry(\n",
    "#         coord=coord,\n",
    "#         k_center=k_c,\n",
    "#         kp_center=kp_c,\n",
    "#         direction=direction,\n",
    "#         distance=\"chord_squared\",\n",
    "#     )\n",
    "#     problem = NumpyroSamplerProblem(geometry, track_arc_length=True)\n",
    "#\n",
    "#     kernel = NUTS(problem.model)\n",
    "#     mcmc = MCMC(kernel, num_warmup=0, num_samples=10_000, jit_model_args=True, progress_bar=False)\n",
    "#     rng_key = jax.random.PRNGKey(random_seed)\n",
    "#     mcmc.run(rng_key)\n",
    "#\n",
    "#     samples = mcmc.get_samples()\n",
    "#\n",
    "#     argmin = jnp.argmin(samples[\"distance\"])\n",
    "#     return jax.tree.map(lambda x: x[argmin], samples)\n",
    "#\n",
    "#\n",
    "# random_seeds = {\"p\": 1, \"m\": -1}\n",
    "# samples = {direction: solve_with_nuts(direction, k, kp, seed) for direction, seed in random_seeds.items()}\n",
    "#\n",
    "# min_arc_length = min(float(jnp.min(samples[\"arc_length_degree\"])) for samples in samples.values())\n",
    "# average_size = coord.grid.average_pixel_size_degree\n",
    "# ratio = min_arc_length / average_size\n",
    "# print(f\"{min_arc_length = :.6f}, {average_size = : .4f} {ratio = : .4f}\")"
   ]
  },
  {
   "cell_type": "markdown",
   "id": "2d38fcbabd74131e",
   "metadata": {},
   "source": [
    "## Use AdaBelief optimizer"
   ]
  },
  {
   "cell_type": "code",
   "execution_count": null,
   "id": "8a340519783e6a84",
   "metadata": {
    "ExecuteTime": {
     "end_time": "2024-07-17T21:26:21.587926Z",
     "start_time": "2024-07-17T21:26:13.417116Z"
    }
   },
   "outputs": [],
   "source": [
    "%%time\n",
    "\n",
    "\n",
    "def solve_with_ada(direction, k_c, kp_c, random_seed=0, n_iter=100):\n",
    "    geometry = TileGeometry(\n",
    "        coord=coord,\n",
    "        k_center=k_c,\n",
    "        kp_center=kp_c,\n",
    "        direction=direction,\n",
    "        distance=\"chord_squared\",\n",
    "    )\n",
    "    problem = OptaxOptimizerProblem(geometry)\n",
    "\n",
    "    optimizer = problem.freeze_optimizer(optax.adabelief(1e-1))\n",
    "    rng_key = jax.random.PRNGKey(random_seed)\n",
    "    params = problem.initial_params(rng_key)\n",
    "    opt_state = optimizer.init(params)\n",
    "    value_and_grad = jax.jit(jax.value_and_grad(problem.loss))\n",
    "\n",
    "    for _ in range(n_iter):\n",
    "        loss, grads = value_and_grad(params)\n",
    "        grads = jax.tree.map(lambda x: jnp.where(jnp.isfinite(x), x, 0.0), grads)\n",
    "        updates, opt_state = optimizer.update(grads, opt_state, params)\n",
    "        params = optax.apply_updates(params, updates)\n",
    "        params = optax.projections.projection_box(\n",
    "            params, problem.geometry.lower_bounds, problem.geometry.upper_bounds\n",
    "        )\n",
    "\n",
    "    arc_distance_radian = problem.geometry.arc_length_radians(loss)\n",
    "    return arc_distance_radian\n",
    "\n",
    "\n",
    "vmapped = jax.vmap(solve_with_ada, in_axes=(None, 0, 0, None, None))\n",
    "random_seeds = {\"p\": 1, \"m\": -1}\n",
    "arc_distance_radian = jnp.concatenate(\n",
    "    [vmapped(direction, k, kp, seed, 100) for direction, seed in random_seeds.items()]\n",
    ")\n",
    "argmin = jnp.argmin(arc_distance_radian)\n",
    "\n",
    "k_center = k[argmin % k.size]\n",
    "kp_center = kp[argmin % k.size]\n",
    "direction = list(random_seeds)[argmin // k.size]\n",
    "min_arc_length_radian = solve_with_ada(direction, k_center, kp_center, random_seed=0, n_iter=10_000)\n",
    "ra_min, dec_min = coord.lonlat_degrees(k_center, kp_center)\n",
    "average_size = coord.grid.average_pixel_size_radian\n",
    "ratio = min_arc_length_radian / average_size\n",
    "print(\n",
    "    f\"{min_arc_length_radian = :.16e}, {average_size = : .4f} {ratio = : .4f} {ra_min = :.5f}, {dec_min = :.5f} {direction = }\"\n",
    ")"
   ]
  }
 ],
 "metadata": {
  "kernelspec": {
   "display_name": "Python 3 (ipykernel)",
   "language": "python",
   "name": "python3"
  },
  "language_info": {
   "codemirror_mode": {
    "name": "ipython",
    "version": 3
   },
   "file_extension": ".py",
   "mimetype": "text/x-python",
   "name": "python",
   "nbconvert_exporter": "python",
   "pygments_lexer": "ipython3",
   "version": "3.12.4"
  }
 },
 "nbformat": 4,
 "nbformat_minor": 5
}
