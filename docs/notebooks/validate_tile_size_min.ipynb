{
 "cells": [
  {
   "cell_type": "code",
   "id": "initial_id",
   "metadata": {
    "collapsed": true
   },
   "source": [
    "import healpy as hp\n",
    "import matplotlib.pyplot as plt\n",
    "import numpy as np\n",
    "from sklearn.metrics.pairwise import haversine_distances\n",
    "\n",
    "steps = 1000\n",
    "order = 8\n",
    "nside = hp.order2nside(order)\n",
    "# Tile from polar region\n",
    "lonlat = 0, np.degrees(np.arcsin(0.992))\n",
    "tile_id = hp.ang2pix(nside, *lonlat, nest=True, lonlat=True)\n",
    "\n",
    "fig = plt.figure(figsize=(16, 6))\n",
    "ax_cyl = fig.add_subplot(1, 2, 1)\n",
    "ax_pol = fig.add_subplot(1, 2, 2, projection='polar')\n",
    "\n",
    "def plot(phi, z, **kwargs):\n",
    "    theta = np.degrees(np.arccos(z))\n",
    "    ax_cyl.plot(phi, z, **kwargs)\n",
    "    ax_pol.plot(np.radians(phi), theta, **kwargs)\n",
    "\n",
    "def hp_boundaries(tile_id, *, n=steps):\n",
    "    hp_boundaries_xyz = hp.boundaries(nside, tile_id, nest=True, step=n)\n",
    "    hp_boundaries_lonlat = hp.vec2ang(hp_boundaries_xyz.T, lonlat=True)\n",
    "    phi = np.where(hp_boundaries_lonlat[0] < 180, hp_boundaries_lonlat[0], hp_boundaries_lonlat[0] - 360)\n",
    "    return np.stack([phi, hp_boundaries_xyz[2]])\n",
    "\n",
    "def hp_boundaries_side(tile_id, side_id, *, n=steps):\n",
    "    hp_boundaries_xyz = hp.boundaries(nside, tile_id, nest=True, step=n)\n",
    "    hp_boundaries_lonlat = hp.vec2ang(hp_boundaries_xyz.T, lonlat=True)\n",
    "    phi = np.where(hp_boundaries_lonlat[0] < 180, hp_boundaries_lonlat[0], hp_boundaries_lonlat[0] - 360)\n",
    "    return np.stack([phi[side_id*n:(side_id+1)*n], hp_boundaries_xyz[2][side_id*n:(side_id+1)*n]])\n",
    "\n",
    "def hp_boundaries_side_latlon(tile_id, side_id, *, n=steps):\n",
    "    hp_boundaries_xyz = hp.boundaries(nside, tile_id, nest=True, step=n)\n",
    "    lon, lat = hp.vec2ang(hp_boundaries_xyz.T, lonlat=True)\n",
    "    return np.stack([lat[side_id*n:(side_id+1)*n], lon[side_id*n:(side_id+1)*n]])\n",
    "\n",
    "plot(*hp_boundaries_side(tile_id, 0), color='black', label='healpy')\n",
    "plot(*hp_boundaries_side(tile_id, 1), color='red', label='healpy')\n",
    "plot(*hp_boundaries_side(tile_id, 2), color='yellow', label='healpy')\n",
    "plot(*hp_boundaries_side(tile_id, 3), color='blue', label='healpy')\n",
    "for neighbour_tile_id in hp.get_all_neighbours(nside, *lonlat, nest=True, lonlat=True):\n",
    "    if neighbour_tile_id > 0:\n",
    "        plot(*hp_boundaries(neighbour_tile_id), color='black', lw=0.5, alpha=0.5, label=None)\n",
    "        \n",
    "top = np.radians(hp_boundaries_side_latlon(tile_id, 3))\n",
    "bottom = np.radians(hp_boundaries_side_latlon(tile_id, 1))\n",
    "\n",
    "distmat = haversine_distances(top.T, bottom.T)\n",
    "top_i, bottom_i = np.unravel_index(distmat.argmin(), distmat.shape)\n",
    "\n",
    "top_coord = top.T[top_i]\n",
    "bottom_coord = bottom.T[bottom_i]\n",
    "\n",
    "ax_cyl.scatter([np.degrees(top_coord[1])], [np.sin(top_coord[0])], color='green', marker='+')\n",
    "ax_cyl.scatter([np.degrees(bottom_coord[1])], [np.sin(bottom_coord[0])], color='green', marker='+')\n",
    "np.min(distmat)"
   ],
   "outputs": [],
   "execution_count": null
  },
  {
   "metadata": {},
   "cell_type": "code",
   "source": "epsilon = 0.0000001",
   "id": "d8f28f45de15f010",
   "outputs": [],
   "execution_count": null
  },
  {
   "metadata": {},
   "cell_type": "code",
   "source": "tile_id",
   "id": "dd25f1bdb96f7c54",
   "outputs": [],
   "execution_count": null
  },
  {
   "metadata": {},
   "cell_type": "code",
   "source": "hp.ang2pix(nside, np.degrees(top_coord[1]), np.degrees(top_coord[0]+epsilon), lonlat=True, nest=True)",
   "id": "aaab3539b8aeb91",
   "outputs": [],
   "execution_count": null
  },
  {
   "metadata": {},
   "cell_type": "code",
   "source": "hp.ang2pix(nside, np.degrees(bottom_coord[1]+epsilon), np.degrees(bottom_coord[0]-epsilon), lonlat=True, nest=True)",
   "id": "78f1c48b5b727938",
   "outputs": [],
   "execution_count": null
  },
  {
   "metadata": {},
   "cell_type": "code",
   "source": "haversine_distances(np.array([[top_coord[0]+epsilon, top_coord[1]],]), np.array([[bottom_coord[0]-epsilon, bottom_coord[1]+epsilon],]))[0][0]",
   "id": "fbf5da798eb94563",
   "outputs": [],
   "execution_count": null
  }
 ],
 "metadata": {
  "kernelspec": {
   "display_name": "Python 3",
   "language": "python",
   "name": "python3"
  },
  "language_info": {
   "codemirror_mode": {
    "name": "ipython",
    "version": 2
   },
   "file_extension": ".py",
   "mimetype": "text/x-python",
   "name": "python",
   "nbconvert_exporter": "python",
   "pygments_lexer": "ipython2",
   "version": "2.7.6"
  }
 },
 "nbformat": 4,
 "nbformat_minor": 5
}
