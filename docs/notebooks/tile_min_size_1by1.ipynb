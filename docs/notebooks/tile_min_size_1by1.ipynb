{
 "cells": [
  {
   "cell_type": "markdown",
   "id": "5e888167830e8967",
   "metadata": {},
   "source": [
    "# Analysis for the minimum size for every tile of a grid"
   ]
  },
  {
   "cell_type": "code",
   "execution_count": null,
   "id": "f4bb6871af102d56",
   "metadata": {
    "ExecuteTime": {
     "end_time": "2024-06-21T17:56:48.385720Z",
     "start_time": "2024-06-21T17:56:48.383851Z"
    }
   },
   "outputs": [],
   "source": [
    "NSIDE = 3"
   ]
  },
  {
   "cell_type": "markdown",
   "id": "b7536e7da32df9",
   "metadata": {},
   "source": [
    "## Imports"
   ]
  },
  {
   "cell_type": "code",
   "execution_count": null,
   "id": "57fa7fa66ab3d5c0",
   "metadata": {
    "ExecuteTime": {
     "end_time": "2024-06-21T17:56:48.404891Z",
     "start_time": "2024-06-21T17:56:48.402581Z"
    }
   },
   "outputs": [],
   "source": [
    "import os\n",
    "from functools import partial\n",
    "\n",
    "import jax\n",
    "import jax.numpy as jnp\n",
    "import matplotlib.pyplot as plt\n",
    "import optax\n",
    "from numpyro.infer import MCMC, NUTS\n",
    "\n",
    "from healpix_geometry_analysis.coordinates import HealpixCoordinates\n",
    "from healpix_geometry_analysis.geometry.tile import TileGeometry\n",
    "from healpix_geometry_analysis.problems.numpyro_sampler import NumpyroSamplerProblem\n",
    "from healpix_geometry_analysis.problems.optax_optimizer import OptaxOptimizerProblem\n",
    "from healpix_geometry_analysis.enable_x64 import enable_x64\n",
    "\n",
    "enable_x64()"
   ]
  },
  {
   "cell_type": "markdown",
   "id": "e3e9dfbe818de3ff",
   "metadata": {},
   "source": [
    "## Initializa a coordinate object, which knows few coordinate system transformations"
   ]
  },
  {
   "cell_type": "code",
   "execution_count": null,
   "id": "3bc13fcf4eb9c747",
   "metadata": {
    "ExecuteTime": {
     "end_time": "2024-06-21T17:56:48.407513Z",
     "start_time": "2024-06-21T17:56:48.405871Z"
    }
   },
   "outputs": [],
   "source": [
    "coord = HealpixCoordinates.from_nside(NSIDE)"
   ]
  },
  {
   "cell_type": "markdown",
   "id": "b0c0b2514cf1ab64",
   "metadata": {},
   "source": [
    "## Making a list of tiles"
   ]
  },
  {
   "cell_type": "markdown",
   "id": "544c15b37350429a",
   "metadata": {},
   "source": [
    "### Equatorial region requires a tile per each Northern Hemisphere ring"
   ]
  },
  {
   "cell_type": "code",
   "execution_count": null,
   "id": "7e8f7184f40657ff",
   "metadata": {
    "ExecuteTime": {
     "end_time": "2024-06-21T17:56:48.522283Z",
     "start_time": "2024-06-21T17:56:48.408028Z"
    }
   },
   "outputs": [],
   "source": [
    "# Step between equatorial rings\n",
    "delta_z = 2 / 3 / coord.grid.nside\n",
    "# Step between meridian rings\n",
    "delta_phi = 0.5 * jnp.pi / coord.grid.nside\n",
    "\n",
    "# First, with longitude = 0\n",
    "z_meridian = jnp.arange(1, coord.grid.nside - 2, 2) * delta_z\n",
    "phi_meridian = jnp.zeros_like(z_meridian)\n",
    "# Next, with a half-step over phi\n",
    "z_offset = jnp.arange(0, coord.grid.nside - 1, 2) * delta_z\n",
    "phi_offset = jnp.full_like(z_offset, 0.5 * delta_phi)\n",
    "\n",
    "z_eq = jnp.concatenate([z_meridian, z_offset])\n",
    "phi_eq = jnp.concatenate([phi_meridian, phi_offset])\n",
    "\n",
    "k_eq, kp_eq = coord.diag_from_phi_z(phi_eq, z_eq)"
   ]
  },
  {
   "cell_type": "markdown",
   "id": "8eba3599680345d8",
   "metadata": {},
   "source": [
    "### Intermidiate region requires all tiles from ring `z = 2/3 - delta_z`"
   ]
  },
  {
   "cell_type": "code",
   "execution_count": null,
   "id": "1d4a761afb31e405",
   "metadata": {
    "ExecuteTime": {
     "end_time": "2024-06-21T17:56:48.617599Z",
     "start_time": "2024-06-21T17:56:48.523736Z"
    }
   },
   "outputs": [],
   "source": [
    "phi_inter = jnp.arange(0, coord.grid.nside // 2 + 1) * delta_phi\n",
    "z_inter = jnp.full_like(phi_inter, 2 / 3 - delta_z)\n",
    "\n",
    "k_inter, kp_inter = coord.diag_from_phi_z(phi_inter, z_inter)"
   ]
  },
  {
   "cell_type": "markdown",
   "id": "368810eb511178ca",
   "metadata": {},
   "source": [
    "### Polar region requires all tiles in 0 < lon <= pi/4, 2/3 <= z < 1"
   ]
  },
  {
   "cell_type": "code",
   "execution_count": null,
   "id": "7796de3a85a22e23",
   "metadata": {
    "ExecuteTime": {
     "end_time": "2024-06-21T17:56:48.738960Z",
     "start_time": "2024-06-21T17:56:48.618324Z"
    }
   },
   "outputs": [],
   "source": [
    "# Use rectangular indices to define the tiles\n",
    "\n",
    "# First, create a matrix of all possible pairs: we will filter it later\n",
    "i_pol_ = jnp.arange(1, coord.grid.nside + 1)\n",
    "j_pol_ = jnp.arange(0, coord.grid.nside)\n",
    "i_pol_all, j_pol_all = jnp.meshgrid(i_pol_, j_pol_)\n",
    "\n",
    "# Filter to have only j indices within a required \"triangle\"\n",
    "j_pol_idx = j_pol_all <= (i_pol_all - 1) // 2\n",
    "i_pol, j_pol = i_pol_all[j_pol_idx], j_pol_all[j_pol_idx]\n",
    "\n",
    "# Get k & k'\n",
    "k_pol = j_pol + 0.5\n",
    "kp_pol = i_pol - j_pol - 0.5"
   ]
  },
  {
   "cell_type": "markdown",
   "id": "3684b929c013b27d",
   "metadata": {},
   "source": [
    "### Combine all diagonal indices and create geometry objects"
   ]
  },
  {
   "cell_type": "code",
   "execution_count": null,
   "id": "bd60d9e4faf1b3d2",
   "metadata": {
    "ExecuteTime": {
     "end_time": "2024-06-21T17:56:48.854771Z",
     "start_time": "2024-06-21T17:56:48.739799Z"
    }
   },
   "outputs": [],
   "source": [
    "k = jnp.concatenate([k_eq, k_inter, k_pol])\n",
    "kp = jnp.concatenate([kp_eq, kp_inter, kp_pol])\n",
    "\n",
    "plt.scatter(*coord.phi_z(k, kp), s=10)\n",
    "plt.xlabel(r\"$\\phi$\")\n",
    "plt.ylabel(\"$z$\")\n",
    "\n",
    "print(k.shape)"
   ]
  },
  {
   "cell_type": "markdown",
   "id": "75b9333be0d137d0",
   "metadata": {},
   "source": [
    "## Use NUTS sampler"
   ]
  },
  {
   "cell_type": "code",
   "execution_count": null,
   "id": "22d4a055b369364c",
   "metadata": {
    "ExecuteTime": {
     "end_time": "2024-06-21T17:56:56.623411Z",
     "start_time": "2024-06-21T17:56:48.855514Z"
    }
   },
   "outputs": [],
   "source": [
    "%%time\n",
    "\n",
    "\n",
    "@partial(jax.vmap, in_axes=[None, 0, 0, None])\n",
    "def solve_with_nuts(direction, k_c, kp_c, random_seed=0):\n",
    "    geometry = TileGeometry(\n",
    "        coord=coord,\n",
    "        k_center=k_c,\n",
    "        kp_center=kp_c,\n",
    "        direction=direction,\n",
    "        distance=\"chord_squared\",\n",
    "    )\n",
    "    problem = NumpyroSamplerProblem(geometry, track_arc_length=True)\n",
    "\n",
    "    kernel = NUTS(problem.model)\n",
    "    mcmc = MCMC(kernel, num_warmup=0, num_samples=10_000, jit_model_args=True, progress_bar=False)\n",
    "    rng_key = jax.random.PRNGKey(random_seed)\n",
    "    mcmc.run(rng_key)\n",
    "\n",
    "    samples = mcmc.get_samples()\n",
    "\n",
    "    argmin = jnp.argmin(samples[\"distance\"])\n",
    "    return jax.tree.map(lambda x: x[argmin], samples)\n",
    "\n",
    "\n",
    "random_seeds = {\"p\": 1, \"m\": -1}\n",
    "samples = {direction: solve_with_nuts(direction, k, kp, seed) for direction, seed in random_seeds.items()}\n",
    "\n",
    "min_arc_length = min(float(jnp.min(samples[\"arc_length_degree\"])) for samples in samples.values())\n",
    "average_size = coord.grid.average_pixel_size_degree\n",
    "ratio = min_arc_length / average_size\n",
    "print(f\"{min_arc_length = :.4f}, {average_size = : .4f} {ratio = : .4f}\")"
   ]
  },
  {
   "cell_type": "markdown",
   "id": "2d38fcbabd74131e",
   "metadata": {},
   "source": [
    "## Use AdaBelief optimizer"
   ]
  },
  {
   "cell_type": "code",
   "execution_count": null,
   "id": "8a340519783e6a84",
   "metadata": {
    "ExecuteTime": {
     "end_time": "2024-06-21T17:57:02.717209Z",
     "start_time": "2024-06-21T17:56:56.624182Z"
    }
   },
   "outputs": [],
   "source": [
    "%%time\n",
    "\n",
    "\n",
    "@partial(jax.vmap, in_axes=[None, 0, 0, None])\n",
    "def solve_with_ada(direction, k_c, kp_c, random_seed=0):\n",
    "    geometry = TileGeometry(\n",
    "        coord=coord,\n",
    "        k_center=k_c,\n",
    "        kp_center=kp_c,\n",
    "        direction=direction,\n",
    "        distance=\"chord_squared\",\n",
    "    )\n",
    "    problem = OptaxOptimizerProblem(geometry)\n",
    "\n",
    "    optimizer = problem.freeze_optimizer(optax.adabelief(1e-1))\n",
    "    rng_key = jax.random.PRNGKey(random_seed)\n",
    "    params = problem.initial_params(rng_key)\n",
    "    opt_state = optimizer.init(params)\n",
    "\n",
    "    for _ in range(100):\n",
    "        loss, grads = jax.value_and_grad(problem.loss)(params)\n",
    "        grads = jax.tree.map(lambda x: jnp.where(jnp.isfinite(x), x, 0.0), grads)\n",
    "        updates, opt_state = optimizer.update(grads, opt_state, params)\n",
    "        params = optax.apply_updates(params, updates)\n",
    "        params = optax.projections.projection_box(\n",
    "            params, problem.geometry.lower_bounds, problem.geometry.upper_bounds\n",
    "        )\n",
    "\n",
    "    arc_distance_deg = problem.geometry.arc_length_degrees(loss)\n",
    "    return arc_distance_deg\n",
    "\n",
    "\n",
    "random_seeds = {\"p\": 1, \"m\": -1}\n",
    "arc_distance_deg = jnp.concatenate(\n",
    "    [solve_with_ada(direction, k, kp, seed) for direction, seed in random_seeds.items()]\n",
    ")\n",
    "min_arc_length = jnp.min(arc_distance_deg)\n",
    "average_size = coord.grid.average_pixel_size_degree\n",
    "ratio = min_arc_length / average_size\n",
    "print(f\"{min_arc_length = :.4f}, {average_size = : .4f} {ratio = : .4f}\")"
   ]
  }
 ],
 "metadata": {
  "kernelspec": {
   "display_name": "Python 3",
   "language": "python",
   "name": "python3"
  },
  "language_info": {
   "codemirror_mode": {
    "name": "ipython",
    "version": 2
   },
   "file_extension": ".py",
   "mimetype": "text/x-python",
   "name": "python",
   "nbconvert_exporter": "python",
   "pygments_lexer": "ipython2",
   "version": "2.7.6"
  }
 },
 "nbformat": 4,
 "nbformat_minor": 5
}
