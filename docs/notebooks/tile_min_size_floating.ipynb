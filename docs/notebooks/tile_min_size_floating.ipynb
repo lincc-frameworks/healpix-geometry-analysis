{
 "cells": [
  {
   "cell_type": "markdown",
   "id": "f4a0abef27c6e3e8",
   "metadata": {},
   "source": [
    "# Run floating slide analysis and compare to brute force method"
   ]
  },
  {
   "cell_type": "code",
   "execution_count": null,
   "id": "9d6c7bc23865b25a",
   "metadata": {
    "ExecuteTime": {
     "end_time": "2024-09-11T14:46:23.419969Z",
     "start_time": "2024-09-11T14:46:23.417963Z"
    }
   },
   "outputs": [],
   "source": [
    "NSIDE = 1 << 8\n",
    "\n",
    "DISTANCE_TYPE = \"chord_squared\""
   ]
  },
  {
   "cell_type": "markdown",
   "id": "e1e14eb54e6f5e03",
   "metadata": {},
   "source": [
    "## Imports"
   ]
  },
  {
   "cell_type": "code",
   "execution_count": null,
   "id": "127001bb4567ea08",
   "metadata": {
    "ExecuteTime": {
     "end_time": "2024-09-11T14:46:24.151355Z",
     "start_time": "2024-09-11T14:46:23.422457Z"
    }
   },
   "outputs": [],
   "source": [
    "import jax\n",
    "import jax.numpy as jnp\n",
    "import optax\n",
    "from numpyro.infer import MCMC, NUTS\n",
    "\n",
    "from healpix_geometry_analysis.coordinates import HealpixCoordinates\n",
    "from healpix_geometry_analysis.geometry.equatorial import EquatorialGeometry\n",
    "from healpix_geometry_analysis.geometry.intermediate import IntermediateGeometry\n",
    "from healpix_geometry_analysis.geometry.polar import PolarGeometry\n",
    "from healpix_geometry_analysis.geometry.tile import TileGeometry\n",
    "from healpix_geometry_analysis.problems.numpyro_sampler import NumpyroSamplerProblem\n",
    "from healpix_geometry_analysis.problems.optax_optimizer import OptaxOptimizerProblem\n",
    "from healpix_geometry_analysis.enable_x64 import enable_x64\n",
    "\n",
    "# Use float64 with Jax\n",
    "enable_x64()"
   ]
  },
  {
   "cell_type": "markdown",
   "id": "d259994b0dd7cf27",
   "metadata": {},
   "source": [
    "## Initializa a coordinate object, which knows few coordinate system transformations"
   ]
  },
  {
   "cell_type": "code",
   "execution_count": null,
   "id": "4bcdaed535ae9872",
   "metadata": {
    "ExecuteTime": {
     "end_time": "2024-09-11T14:46:24.249058Z",
     "start_time": "2024-09-11T14:46:24.218351Z"
    }
   },
   "outputs": [],
   "source": [
    "coord = HealpixCoordinates.from_nside(NSIDE)"
   ]
  },
  {
   "cell_type": "markdown",
   "id": "e95a68997290323",
   "metadata": {},
   "source": [
    "## Define solvers"
   ]
  },
  {
   "cell_type": "code",
   "execution_count": null,
   "id": "fbc58e11a15b2453",
   "metadata": {
    "ExecuteTime": {
     "end_time": "2024-09-11T14:46:24.284626Z",
     "start_time": "2024-09-11T14:46:24.280580Z"
    }
   },
   "outputs": [],
   "source": [
    "def solve_with_nuts(geometry, *, random_seed, num_samples):\n",
    "    problem = NumpyroSamplerProblem(geometry, track_arc_length=False)\n",
    "    kernel = NUTS(problem.model)\n",
    "    mcmc = MCMC(\n",
    "        kernel,\n",
    "        num_samples=num_samples,\n",
    "        num_warmup=0,\n",
    "        num_chains=1,\n",
    "        jit_model_args=True,\n",
    "        progress_bar=False,\n",
    "    )\n",
    "    rng_key = jax.random.PRNGKey(random_seed)\n",
    "    mcmc.run(rng_key)\n",
    "\n",
    "    samples = mcmc.get_samples()\n",
    "\n",
    "    argmin = jnp.argmin(samples[\"distance\"])\n",
    "    min_samples = jax.tree.map(lambda x: x[argmin], samples) | geometry.frozen_parameters\n",
    "\n",
    "    k1, k2, kp1, kp2 = geometry.diagonal_indices(min_samples)\n",
    "    k_mean = 0.5 * (k1 + k2)\n",
    "    kp_mean = 0.5 * (kp1 + kp2)\n",
    "    arc_distance_radian = geometry.arc_length_radians(geometry.calc_distance(min_samples))\n",
    "\n",
    "    return arc_distance_radian, k_mean, kp_mean\n",
    "\n",
    "\n",
    "def solve_with_ada(geometry, *, random_seed, n_iter):\n",
    "    problem = OptaxOptimizerProblem(geometry)\n",
    "\n",
    "    optimizer = problem.freeze_optimizer(optax.adabelief(1e-1))\n",
    "    rng_key = jax.random.PRNGKey(random_seed)\n",
    "    params = problem.initial_params(rng_key)\n",
    "    opt_state = optimizer.init(params)\n",
    "    value_and_grad = jax.jit(jax.value_and_grad(problem.loss))\n",
    "\n",
    "    for _ in range(n_iter):\n",
    "        loss, grads = value_and_grad(params)\n",
    "        grads = jax.tree.map(lambda x: jnp.where(jnp.isfinite(x), x, 0.0), grads)\n",
    "        updates, opt_state = optimizer.update(grads, opt_state, params)\n",
    "        params = optax.apply_updates(params, updates)\n",
    "        params = optax.projections.projection_box(params, geometry.lower_bounds, geometry.upper_bounds)\n",
    "\n",
    "    arc_distance_radian = geometry.arc_length_radians(loss)\n",
    "\n",
    "    k1, k2, kp1, kp2 = geometry.diagonal_indices(params)\n",
    "    k1_mean = 0.5 * (k1 + k2)\n",
    "    kp1_mean = 0.5 * (kp1 + kp2)\n",
    "\n",
    "    return arc_distance_radian, k1_mean, kp1_mean\n",
    "\n",
    "\n",
    "def solve_with_ada_one_tile(coord, direction, k_c, kp_c, random_seed=0, n_iter=100):\n",
    "    geometry = TileGeometry(\n",
    "        coord=coord,\n",
    "        k_center=k_c,\n",
    "        kp_center=kp_c,\n",
    "        direction=direction,\n",
    "        distance=\"chord_squared\",\n",
    "    )\n",
    "    arc_distance_radian, *_diag = solve_with_ada(geometry, random_seed=random_seed, n_iter=n_iter)\n",
    "    return arc_distance_radian\n",
    "\n",
    "\n",
    "solve_with_ada_one_tile_vmap = jax.vmap(\n",
    "    solve_with_ada_one_tile,\n",
    "    in_axes=(None, None, 0, 0, None, None),\n",
    ")"
   ]
  },
  {
   "cell_type": "code",
   "execution_count": null,
   "id": "6b505e41b19dc6f3",
   "metadata": {
    "ExecuteTime": {
     "end_time": "2024-09-11T14:46:24.315666Z",
     "start_time": "2024-09-11T14:46:24.313606Z"
    }
   },
   "outputs": [],
   "source": [
    "def solve_float(geometry, *, random_seed, num_samples, n_iter, solver=\"nuts\"):\n",
    "    if solver == \"nuts\":\n",
    "        return solve_with_nuts(geometry, random_seed=random_seed, num_samples=num_samples)\n",
    "    if solver == \"ada\":\n",
    "        return solve_with_ada(geometry, random_seed=random_seed, n_iter=n_iter)"
   ]
  },
  {
   "cell_type": "code",
   "execution_count": null,
   "id": "bbd39341b7e0e020",
   "metadata": {
    "ExecuteTime": {
     "end_time": "2024-09-11T14:46:24.348567Z",
     "start_time": "2024-09-11T14:46:24.346415Z"
    }
   },
   "outputs": [],
   "source": [
    "def solve_1by1(coord, direction, k, kp, *, random_seed, n_iter_per_tile):\n",
    "    arc_distance_radian = solve_with_ada_one_tile_vmap(\n",
    "        coord,\n",
    "        direction,\n",
    "        k,\n",
    "        kp,\n",
    "        random_seed,\n",
    "        n_iter_per_tile,\n",
    "    )\n",
    "\n",
    "    argmin = jnp.argmin(arc_distance_radian)\n",
    "\n",
    "    return arc_distance_radian[argmin], k[argmin], kp[argmin]"
   ]
  },
  {
   "cell_type": "markdown",
   "id": "2c7055cf6af4a6f6",
   "metadata": {},
   "source": [
    "## Run analysis separately for each of the three regions"
   ]
  },
  {
   "cell_type": "markdown",
   "id": "2104478c647c4876",
   "metadata": {},
   "source": [
    "### Equatorial region"
   ]
  },
  {
   "cell_type": "code",
   "execution_count": null,
   "id": "83473dd2d0851333",
   "metadata": {
    "ExecuteTime": {
     "end_time": "2024-09-11T14:46:32.738422Z",
     "start_time": "2024-09-11T14:46:24.380844Z"
    }
   },
   "outputs": [],
   "source": [
    "%%time\n",
    "\n",
    "intermediate_geometry = EquatorialGeometry(coord=coord, distance=DISTANCE_TYPE)\n",
    "\n",
    "float_dist, float_k, float_kp = solve_float(\n",
    "    intermediate_geometry,\n",
    "    random_seed=0,\n",
    "    num_samples=100_000,\n",
    "    n_iter=10_000,\n",
    ")\n",
    "\n",
    "one_dist, one_k, one_kp = solve_1by1(\n",
    "    coord,\n",
    "    intermediate_geometry.direction,\n",
    "    *coord.unique_equatorial_tiles(),\n",
    "    random_seed=0,\n",
    "    n_iter_per_tile=1000,\n",
    ")\n",
    "\n",
    "print(\n",
    "    f\"Floating: {float_dist} k={float_k} kp={float_kp} z={float(coord.phi_z(jnp.floor(float_k) + 0.5, jnp.floor(float_kp) + 0.5)[1])}\"\n",
    ")\n",
    "print(f\"One  by one: {one_dist} k={one_k} kp={one_kp} z={float(coord.phi_z(one_k, one_kp)[1])}\")"
   ]
  },
  {
   "cell_type": "markdown",
   "id": "16f4649a5b6c00e",
   "metadata": {},
   "source": [
    "### Intermediate region"
   ]
  },
  {
   "cell_type": "code",
   "execution_count": null,
   "id": "efc79698138560ef",
   "metadata": {
    "ExecuteTime": {
     "end_time": "2024-09-11T14:46:54.069894Z",
     "start_time": "2024-09-11T14:46:32.807908Z"
    }
   },
   "outputs": [],
   "source": [
    "%%time\n",
    "\n",
    "for direction in [\"p\", \"m\"]:\n",
    "    intermediate_geometry = IntermediateGeometry(coord=coord, distance=DISTANCE_TYPE, direction=direction)\n",
    "\n",
    "    float_dist, float_k, float_kp = solve_float(\n",
    "        intermediate_geometry,\n",
    "        random_seed=0,\n",
    "        num_samples=1_000_000,\n",
    "        n_iter=10_000,\n",
    "    )\n",
    "\n",
    "    one_dist, one_k, one_kp = solve_1by1(\n",
    "        coord,\n",
    "        intermediate_geometry.direction,\n",
    "        *coord.unique_intermediate_tiles(),\n",
    "        random_seed=0,\n",
    "        n_iter_per_tile=1000,\n",
    "    )\n",
    "\n",
    "    print(f\"Direction: {direction}\")\n",
    "    print(f\"Floating: {float_dist} k={float_k} kp={float_kp}\")\n",
    "    print(f\"One  by one: {one_dist} k={one_k} kp={one_kp}\")"
   ]
  },
  {
   "cell_type": "markdown",
   "id": "8457889bb1a220b9",
   "metadata": {},
   "source": [
    "### Polar region"
   ]
  },
  {
   "cell_type": "code",
   "execution_count": null,
   "id": "41943e601f37ab5c",
   "metadata": {
    "ExecuteTime": {
     "end_time": "2024-09-11T14:47:19.206298Z",
     "start_time": "2024-09-11T14:46:54.074700Z"
    }
   },
   "outputs": [],
   "source": [
    "%%time\n",
    "\n",
    "for direction in [\"p\", \"m\"]:\n",
    "    polar_geometry = PolarGeometry(coord=coord, distance=DISTANCE_TYPE, direction=direction)\n",
    "\n",
    "    float_dist, float_k, float_kp = solve_float(\n",
    "        polar_geometry,\n",
    "        random_seed=0,\n",
    "        num_samples=1_000_000,\n",
    "        n_iter=10_000,\n",
    "    )\n",
    "\n",
    "    one_dist, one_k, one_kp = solve_1by1(\n",
    "        coord,\n",
    "        polar_geometry.direction,\n",
    "        *coord.unique_polar_tiles(),\n",
    "        random_seed=0,\n",
    "        n_iter_per_tile=1000,\n",
    "    )\n",
    "\n",
    "    print(f\"Direction: {direction}\")\n",
    "    print(f\"Floating: {float_dist} k={float_k} kp={float_kp}\")\n",
    "    print(f\"One  by one: {one_dist} k={one_k} kp={one_kp}\")"
   ]
  },
  {
   "cell_type": "code",
   "execution_count": null,
   "id": "7eba037dd7fc0803",
   "metadata": {
    "ExecuteTime": {
     "end_time": "2024-09-11T14:47:19.211922Z",
     "start_time": "2024-09-11T14:47:19.210668Z"
    }
   },
   "outputs": [],
   "source": []
  }
 ],
 "metadata": {
  "kernelspec": {
   "display_name": "Python 3",
   "language": "python",
   "name": "python3"
  },
  "language_info": {
   "codemirror_mode": {
    "name": "ipython",
    "version": 2
   },
   "file_extension": ".py",
   "mimetype": "text/x-python",
   "name": "python",
   "nbconvert_exporter": "python",
   "pygments_lexer": "ipython2",
   "version": "2.7.6"
  }
 },
 "nbformat": 4,
 "nbformat_minor": 5
}
